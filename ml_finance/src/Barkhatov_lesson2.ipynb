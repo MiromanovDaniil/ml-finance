{
 "cells": [
  {
   "cell_type": "code",
   "execution_count": 40,
   "metadata": {
    "id": "6WydC66U_s5f"
   },
   "outputs": [],
   "source": [
    "import matplotlib.pyplot as plt\n",
    "import requests\n",
    "import numpy as np\n",
    "import pandas as pd\n",
    "import pandas_ta as ta\n",
    "from datetime import datetime\n",
    "from binance.client import Client\n",
    "client = Client(tld='us')\n",
    "\n",
    "from catboost import CatBoostRegressor\n",
    "from sklearn.linear_model import LinearRegression\n",
    "from sklearn.tree import DecisionTreeClassifier\n",
    "from sklearn.linear_model import Ridge\n",
    "from sklearn.feature_selection import RFE\n",
    "from sklearn.linear_model import ElasticNet\n",
    "from sklearn.feature_selection import mutual_info_regression\n",
    "from sklearn.feature_selection import SelectKBest\n",
    "from sklearn.model_selection import GridSearchCV"
   ]
  },
  {
   "cell_type": "code",
   "execution_count": 41,
   "metadata": {
    "id": "3Ewd2NJiAkEo"
   },
   "outputs": [],
   "source": [
    "startDate = '2022-01-01 00:00:00'\n",
    "testDate  = '2024-06-01 00:00:00'\n",
    "r = client.get_historical_klines('BTCUSDT','1h',startDate)"
   ]
  },
  {
   "cell_type": "code",
   "execution_count": 42,
   "metadata": {
    "colab": {
     "base_uri": "https://localhost:8080/",
     "height": 198
    },
    "id": "G0OlX968DOhj",
    "outputId": "fd7841e2-c7de-4107-e319-9555687a9784"
   },
   "outputs": [
    {
     "data": {
      "text/html": [
       "<div>\n",
       "<style scoped>\n",
       "    .dataframe tbody tr th:only-of-type {\n",
       "        vertical-align: middle;\n",
       "    }\n",
       "\n",
       "    .dataframe tbody tr th {\n",
       "        vertical-align: top;\n",
       "    }\n",
       "\n",
       "    .dataframe thead th {\n",
       "        text-align: right;\n",
       "    }\n",
       "</style>\n",
       "<table border=\"1\" class=\"dataframe\">\n",
       "  <thead>\n",
       "    <tr style=\"text-align: right;\">\n",
       "      <th></th>\n",
       "      <th>openTime</th>\n",
       "      <th>openPrice</th>\n",
       "      <th>highPrice</th>\n",
       "      <th>lowPrice</th>\n",
       "      <th>closePrice</th>\n",
       "      <th>volume</th>\n",
       "      <th>quoteAssetVolume</th>\n",
       "      <th>NumberOfTrades</th>\n",
       "      <th>TakerBaseVolume</th>\n",
       "      <th>TakerQuoteVolume</th>\n",
       "      <th>Ignore</th>\n",
       "      <th>return</th>\n",
       "      <th>return_next</th>\n",
       "      <th>predict</th>\n",
       "    </tr>\n",
       "    <tr>\n",
       "      <th>closeTime</th>\n",
       "      <th></th>\n",
       "      <th></th>\n",
       "      <th></th>\n",
       "      <th></th>\n",
       "      <th></th>\n",
       "      <th></th>\n",
       "      <th></th>\n",
       "      <th></th>\n",
       "      <th></th>\n",
       "      <th></th>\n",
       "      <th></th>\n",
       "      <th></th>\n",
       "      <th></th>\n",
       "      <th></th>\n",
       "    </tr>\n",
       "  </thead>\n",
       "  <tbody>\n",
       "    <tr>\n",
       "      <th>2022-01-01 00:59:59.999</th>\n",
       "      <td>1640995200000</td>\n",
       "      <td>46192.43</td>\n",
       "      <td>46715.27</td>\n",
       "      <td>46192.43</td>\n",
       "      <td>46670.23</td>\n",
       "      <td>17.363974</td>\n",
       "      <td>806563.32129247</td>\n",
       "      <td>543</td>\n",
       "      <td>12.21561800</td>\n",
       "      <td>567219.24202502</td>\n",
       "      <td>0</td>\n",
       "      <td>NaN</td>\n",
       "      <td>0.002362</td>\n",
       "      <td>1</td>\n",
       "    </tr>\n",
       "    <tr>\n",
       "      <th>2022-01-01 01:59:59.999</th>\n",
       "      <td>1640998800000</td>\n",
       "      <td>46643.41</td>\n",
       "      <td>46932.99</td>\n",
       "      <td>46564.34</td>\n",
       "      <td>46780.47</td>\n",
       "      <td>6.799312</td>\n",
       "      <td>317924.86514860</td>\n",
       "      <td>336</td>\n",
       "      <td>2.05007400</td>\n",
       "      <td>96019.16970575</td>\n",
       "      <td>0</td>\n",
       "      <td>0.002362</td>\n",
       "      <td>-0.000093</td>\n",
       "      <td>1</td>\n",
       "    </tr>\n",
       "  </tbody>\n",
       "</table>\n",
       "</div>"
      ],
      "text/plain": [
       "                              openTime  openPrice  highPrice  lowPrice  \\\n",
       "closeTime                                                                \n",
       "2022-01-01 00:59:59.999  1640995200000   46192.43   46715.27  46192.43   \n",
       "2022-01-01 01:59:59.999  1640998800000   46643.41   46932.99  46564.34   \n",
       "\n",
       "                         closePrice     volume quoteAssetVolume  \\\n",
       "closeTime                                                         \n",
       "2022-01-01 00:59:59.999    46670.23  17.363974  806563.32129247   \n",
       "2022-01-01 01:59:59.999    46780.47   6.799312  317924.86514860   \n",
       "\n",
       "                         NumberOfTrades TakerBaseVolume TakerQuoteVolume  \\\n",
       "closeTime                                                                  \n",
       "2022-01-01 00:59:59.999             543     12.21561800  567219.24202502   \n",
       "2022-01-01 01:59:59.999             336      2.05007400   96019.16970575   \n",
       "\n",
       "                        Ignore    return  return_next  predict  \n",
       "closeTime                                                       \n",
       "2022-01-01 00:59:59.999      0       NaN     0.002362        1  \n",
       "2022-01-01 01:59:59.999      0  0.002362    -0.000093        1  "
      ]
     },
     "execution_count": 42,
     "metadata": {},
     "output_type": "execute_result"
    }
   ],
   "source": [
    "df = pd.DataFrame(r)\n",
    "colnames = ['openTime','openPrice','highPrice','lowPrice','closePrice','volume','closeTime','quoteAssetVolume','NumberOfTrades','TakerBaseVolume','TakerQuoteVolume','Ignore']\n",
    "df.columns = colnames\n",
    "df['closeTime'] = pd.to_datetime(df['closeTime'], unit='ms')\n",
    "df = df.astype({'closePrice':'float','openPrice':'float','highPrice':'float','lowPrice':'float','volume':'float'})\n",
    "df['return'] = df['closePrice'].pct_change()\n",
    "df['return_next'] = df['return'].shift(-1).fillna(0)\n",
    "df['predict'] = 1\n",
    "df.set_index(\"closeTime\", inplace= True)\n",
    "df.head(2)"
   ]
  },
  {
   "cell_type": "code",
   "execution_count": 43,
   "metadata": {
    "colab": {
     "base_uri": "https://localhost:8080/",
     "height": 362
    },
    "id": "fIr85nvhGJ3i",
    "outputId": "7a81d0fb-8072-4af3-9320-b692f663a9dc"
   },
   "outputs": [
    {
     "data": {
      "image/png": "[encoded data removed]",
      "text/plain": [
       "<Figure size 2000x500 with 1 Axes>"
      ]
     },
     "metadata": {},
     "output_type": "display_data"
    }
   ],
   "source": [
    "def func_plot(df):\n",
    "  df['pnl'] = df['return_next'] * df['predict']\n",
    "  df['pnl_cumsum'] = df['pnl'].cumsum()\n",
    "  df['pnl_cumsum_max'] = df['pnl_cumsum'].cummax()\n",
    "  df['pnl_dd'] = df['pnl_cumsum_max'] - df['pnl_cumsum']\n",
    "  plt.figure(figsize=(20,5))\n",
    "  plt.plot(df['pnl_cumsum'],color='orange')\n",
    "  plt.plot(df['pnl_cumsum_max'],color='red')\n",
    "  plt.axvline(x = pd.to_datetime(testDate), color='black')\n",
    "  plt.grid()\n",
    "  plt.show()\n",
    "\n",
    "func_plot(df)"
   ]
  },
  {
   "cell_type": "code",
   "execution_count": 44,
   "metadata": {
    "id": "rLnQeH8SH9fa"
   },
   "outputs": [],
   "source": [
    "def func_model_performance(df):\n",
    "  train = df[(df.index<testDate)].reindex()\n",
    "  test = df[(df.index>=testDate)].reindex()\n",
    "\n",
    "  pnl_train = round(train['pnl'].sum(),6)\n",
    "  pnl_test = round(test['pnl'].sum(),6)\n",
    "\n",
    "  mdd_train = round(train['pnl_dd'].max(),6)\n",
    "  mdd_test = round(test['pnl_dd'].max(),6)\n",
    "\n",
    "  sharpe_train = round(pnl_train/mdd_train,6)\n",
    "  sharpe_test = round(pnl_test/mdd_test,6)\n",
    "\n",
    "  print('            train     test')\n",
    "  print('PNL      : {0: <10}'.format(pnl_train),'{0: <10}'.format(pnl_test))\n",
    "  print('MDD      : {0: <10}'.format(mdd_train),'{0: <10}'.format(mdd_test))\n",
    "  print('Sharpe      : {0: <10}'.format(sharpe_train),'{0: <10}'.format(sharpe_test))\n",
    "  return sharpe_train"
   ]
  },
  {
   "cell_type": "code",
   "execution_count": 45,
   "metadata": {
    "colab": {
     "base_uri": "https://localhost:8080/"
    },
    "id": "35fYPc0ULO1G",
    "outputId": "278f1ac4-e1f4-438b-cfd5-98da76726ac1"
   },
   "outputs": [
    {
     "name": "stdout",
     "output_type": "stream",
     "text": [
      "Help on function macd in module pandas_ta.momentum.macd:\n",
      "\n",
      "macd(close, fast=None, slow=None, signal=None, talib=None, offset=None, **kwargs)\n",
      "    Moving Average Convergence Divergence (MACD)\n",
      "\n",
      "    The MACD is a popular indicator to that is used to identify a security's trend.\n",
      "    While APO and MACD are the same calculation, MACD also returns two more series\n",
      "    called Signal and Histogram. The Signal is an EMA of MACD and the Histogram is\n",
      "    the difference of MACD and Signal.\n",
      "\n",
      "    Sources:\n",
      "        https://www.tradingview.com/wiki/MACD_(Moving_Average_Convergence/Divergence)\n",
      "        AS Mode: https://tr.tradingview.com/script/YFlKXHnP/\n",
      "\n",
      "    Calculation:\n",
      "        Default Inputs:\n",
      "            fast=12, slow=26, signal=9\n",
      "        EMA = Exponential Moving Average\n",
      "        MACD = EMA(close, fast) - EMA(close, slow)\n",
      "        Signal = EMA(MACD, signal)\n",
      "        Histogram = MACD - Signal\n",
      "\n",
      "        if asmode:\n",
      "            MACD = MACD - Signal\n",
      "            Signal = EMA(MACD, signal)\n",
      "            Histogram = MACD - Signal\n",
      "\n",
      "    Args:\n",
      "        close (pd.Series): Series of 'close's\n",
      "        fast (int): The short period. Default: 12\n",
      "        slow (int): The long period. Default: 26\n",
      "        signal (int): The signal period. Default: 9\n",
      "        talib (bool): If TA Lib is installed and talib is True, Returns the TA Lib\n",
      "            version. Default: True\n",
      "        offset (int): How many periods to offset the result. Default: 0\n",
      "\n",
      "    Kwargs:\n",
      "        asmode (value, optional): When True, enables AS version of MACD.\n",
      "            Default: False\n",
      "        fillna (value, optional): pd.DataFrame.fillna(value)\n",
      "        fill_method (value, optional): Type of fill method\n",
      "\n",
      "    Returns:\n",
      "        pd.DataFrame: macd, histogram, signal columns.\n",
      "\n"
     ]
    }
   ],
   "source": [
    "help(ta.macd)"
   ]
  },
  {
   "cell_type": "code",
   "execution_count": 46,
   "metadata": {
    "colab": {
     "base_uri": "https://localhost:8080/",
     "height": 455
    },
    "id": "dMGS5sfaXXU0",
    "outputId": "597dfa8a-507d-4628-cffa-aafbb34cbc90"
   },
   "outputs": [
    {
     "data": {
      "text/html": [
       "<div>\n",
       "<style scoped>\n",
       "    .dataframe tbody tr th:only-of-type {\n",
       "        vertical-align: middle;\n",
       "    }\n",
       "\n",
       "    .dataframe tbody tr th {\n",
       "        vertical-align: top;\n",
       "    }\n",
       "\n",
       "    .dataframe thead th {\n",
       "        text-align: right;\n",
       "    }\n",
       "</style>\n",
       "<table border=\"1\" class=\"dataframe\">\n",
       "  <thead>\n",
       "    <tr style=\"text-align: right;\">\n",
       "      <th></th>\n",
       "      <th>MACD_12_26_9</th>\n",
       "      <th>MACDh_12_26_9</th>\n",
       "      <th>MACDs_12_26_9</th>\n",
       "    </tr>\n",
       "    <tr>\n",
       "      <th>closeTime</th>\n",
       "      <th></th>\n",
       "      <th></th>\n",
       "      <th></th>\n",
       "    </tr>\n",
       "  </thead>\n",
       "  <tbody>\n",
       "    <tr>\n",
       "      <th>2022-01-01 00:59:59.999</th>\n",
       "      <td>NaN</td>\n",
       "      <td>NaN</td>\n",
       "      <td>NaN</td>\n",
       "    </tr>\n",
       "    <tr>\n",
       "      <th>2022-01-01 01:59:59.999</th>\n",
       "      <td>NaN</td>\n",
       "      <td>NaN</td>\n",
       "      <td>NaN</td>\n",
       "    </tr>\n",
       "    <tr>\n",
       "      <th>2022-01-01 02:59:59.999</th>\n",
       "      <td>NaN</td>\n",
       "      <td>NaN</td>\n",
       "      <td>NaN</td>\n",
       "    </tr>\n",
       "    <tr>\n",
       "      <th>2022-01-01 03:59:59.999</th>\n",
       "      <td>NaN</td>\n",
       "      <td>NaN</td>\n",
       "      <td>NaN</td>\n",
       "    </tr>\n",
       "    <tr>\n",
       "      <th>2022-01-01 04:59:59.999</th>\n",
       "      <td>NaN</td>\n",
       "      <td>NaN</td>\n",
       "      <td>NaN</td>\n",
       "    </tr>\n",
       "    <tr>\n",
       "      <th>...</th>\n",
       "      <td>...</td>\n",
       "      <td>...</td>\n",
       "      <td>...</td>\n",
       "    </tr>\n",
       "    <tr>\n",
       "      <th>2024-12-05 03:59:59.999</th>\n",
       "      <td>1219.883219</td>\n",
       "      <td>571.046555</td>\n",
       "      <td>648.836664</td>\n",
       "    </tr>\n",
       "    <tr>\n",
       "      <th>2024-12-05 04:59:59.999</th>\n",
       "      <td>1491.771751</td>\n",
       "      <td>674.348070</td>\n",
       "      <td>817.423681</td>\n",
       "    </tr>\n",
       "    <tr>\n",
       "      <th>2024-12-05 05:59:59.999</th>\n",
       "      <td>1616.008274</td>\n",
       "      <td>638.867674</td>\n",
       "      <td>977.140600</td>\n",
       "    </tr>\n",
       "    <tr>\n",
       "      <th>2024-12-05 06:59:59.999</th>\n",
       "      <td>1657.347905</td>\n",
       "      <td>544.165844</td>\n",
       "      <td>1113.182061</td>\n",
       "    </tr>\n",
       "    <tr>\n",
       "      <th>2024-12-05 07:59:59.999</th>\n",
       "      <td>1671.072712</td>\n",
       "      <td>446.312521</td>\n",
       "      <td>1224.760191</td>\n",
       "    </tr>\n",
       "  </tbody>\n",
       "</table>\n",
       "<p>25657 rows × 3 columns</p>\n",
       "</div>"
      ],
      "text/plain": [
       "                         MACD_12_26_9  MACDh_12_26_9  MACDs_12_26_9\n",
       "closeTime                                                          \n",
       "2022-01-01 00:59:59.999           NaN            NaN            NaN\n",
       "2022-01-01 01:59:59.999           NaN            NaN            NaN\n",
       "2022-01-01 02:59:59.999           NaN            NaN            NaN\n",
       "2022-01-01 03:59:59.999           NaN            NaN            NaN\n",
       "2022-01-01 04:59:59.999           NaN            NaN            NaN\n",
       "...                               ...            ...            ...\n",
       "2024-12-05 03:59:59.999   1219.883219     571.046555     648.836664\n",
       "2024-12-05 04:59:59.999   1491.771751     674.348070     817.423681\n",
       "2024-12-05 05:59:59.999   1616.008274     638.867674     977.140600\n",
       "2024-12-05 06:59:59.999   1657.347905     544.165844    1113.182061\n",
       "2024-12-05 07:59:59.999   1671.072712     446.312521    1224.760191\n",
       "\n",
       "[25657 rows x 3 columns]"
      ]
     },
     "execution_count": 46,
     "metadata": {},
     "output_type": "execute_result"
    }
   ],
   "source": [
    "df.ta(kind='MACD',append=True,centered=False,high='highPrice',low='lowPrice',volume='volume',close='closePrice',length=6)"
   ]
  },
  {
   "cell_type": "code",
   "execution_count": 47,
   "metadata": {},
   "outputs": [
    {
     "data": {
      "text/plain": [
       "openTime              int64\n",
       "openPrice           float64\n",
       "highPrice           float64\n",
       "lowPrice            float64\n",
       "closePrice          float64\n",
       "volume              float64\n",
       "quoteAssetVolume     object\n",
       "NumberOfTrades        int64\n",
       "TakerBaseVolume      object\n",
       "TakerQuoteVolume     object\n",
       "Ignore               object\n",
       "return              float64\n",
       "return_next         float64\n",
       "predict               int64\n",
       "pnl                 float64\n",
       "pnl_cumsum          float64\n",
       "pnl_cumsum_max      float64\n",
       "pnl_dd              float64\n",
       "MACD_12_26_9        float64\n",
       "MACDh_12_26_9       float64\n",
       "MACDs_12_26_9       float64\n",
       "dtype: object"
      ]
     },
     "execution_count": 47,
     "metadata": {},
     "output_type": "execute_result"
    }
   ],
   "source": [
    "df.dtypes"
   ]
  },
  {
   "cell_type": "code",
   "execution_count": 48,
   "metadata": {},
   "outputs": [],
   "source": [
    "columns_to_convert = ['quoteAssetVolume', 'TakerBaseVolume', 'TakerQuoteVolume', 'Ignore']\n",
    "for col in columns_to_convert:\n",
    "    df[col] = pd.to_numeric(df[col], errors='coerce')"
   ]
  },
  {
   "cell_type": "code",
   "execution_count": 49,
   "metadata": {
    "id": "nDc5XXtRL8Qg"
   },
   "outputs": [],
   "source": [
    "def func_features(df):\n",
    "    for length in [6, 12, 16, 20, 25, 30, 50]:\n",
    "        # Simple Moving Average (SMA) and related signal\n",
    "        df.ta(kind='SMA', append=True, centered=False, close='closePrice', length=length)\n",
    "        df[f'f_SMA_{length}'] = np.where(df['closePrice'] > df[f'SMA_{length}'], -1, 1)\n",
    "\n",
    "        # Trend-based feature using rolling returns\n",
    "        df[f'f_trend_{length}'] = np.where(df['return'].rolling(window=length).sum() > 0, -1, 1)\n",
    "\n",
    "        # Average True Range (ATR)\n",
    "        df.ta(kind='ATR', append=True, centered=False, high='highPrice', low='lowPrice', volume='volume', close='closePrice', length=length)\n",
    "        df[f'f_ATR_{length}'] = np.where(df[f'ATRr_{length}'] > df[f'ATRr_{length}'].rolling(window=6).mean(), 1, -1)\n",
    "\n",
    "        # Relative Strength Index (RSI)\n",
    "        df.ta(kind='RSI', append=True, centered=False, close='closePrice', length=length)\n",
    "        df[f'f_RSI_{length}'] = np.where(df[f'RSI_{length}'] < 20, 1, np.where(df[f'RSI_{length}'] > 80, -1, 0))\n",
    "\n",
    "        # Price Volume Trend (PVT)\n",
    "        df.ta(kind='PVT', append=True, centered=False, volume='volume', close='closePrice')\n",
    "        df[f'f_PVT_{length}'] = np.where(df['PVT'] > df['PVT'].rolling(window=length).mean(), 1, -1)\n",
    "\n",
    "        # Bollinger Bands\n",
    "        df.ta(kind='BBANDS', append=True, centered=False, close='closePrice', length=length)\n",
    "        df[f'f_bb_{length}_low'] = np.where(df['closePrice'] < df[f'BBL_{length}_2.0'], 1, 0)\n",
    "        df[f'f_bb_{length}_high'] = np.where(df['closePrice'] > df[f'BBU_{length}_2.0'], -1, 0)\n",
    "\n",
    "    # Moving Average Convergence Divergence (MACD)\n",
    "    df.ta(kind='MACD', append=True, centered=False, high='highPrice', low='lowPrice', volume='volume', close='closePrice', length=6)\n",
    "    df['f_macd'] = np.where(df['MACDh_12_26_9'] > 0, 1, -1)\n",
    "\n",
    "    # On-Balance Volume (OBV)\n",
    "    df.ta(kind='OBV', append=True, centered=False, high='highPrice', low='lowPrice', volume='volume', close='closePrice', length=6)\n",
    "    df['f_OBV'] = np.where(df['OBV'] < df['OBV'].rolling(window=12).mean(), -1, 1)\n",
    "\n",
    "    # Momentum Indicator (MOM)\n",
    "    df.ta(kind='MOM', append=True, centered=False, close='closePrice', length=10)\n",
    "    df['f_momentum'] = np.where(df['MOM_10'] > 0, 1, -1)\n",
    "\n",
    "    # Additional features\n",
    "    df['f_high'] = df['highPrice'].pct_change().fillna(0)\n",
    "    df['f_low'] = df['lowPrice'].pct_change().fillna(0)\n",
    "    df['f_high_low'] = (df['highPrice'] - df['lowPrice']) / (df['highPrice'] + df['lowPrice']).fillna(0)\n",
    "    df['f_open_close'] = (df['openPrice'] - df['closePrice']) / (df['openPrice'] + df['closePrice']).fillna(0)\n",
    "    df['f_ntv'] = df['NumberOfTrades'].pct_change().where(df['NumberOfTrades'].pct_change() != np.inf, np.nan).ffill().fillna(0)\n",
    "    df['f_taker_volume_ratio'] = (df['TakerBaseVolume'] / df['volume']).fillna(0)\n",
    "    df['f_rolling_std'] = df['closePrice'].rolling(window=20).std().fillna(0)\n",
    "\n",
    "    # Lagged returns\n",
    "    for lag in [1, 2, 3, 5, 10]:\n",
    "        df[f'lag_return_{lag}'] = df['return'].shift(lag)\n",
    "\n",
    "    # Feature engineering for targets\n",
    "    df['return_next_class'] = np.where(df['return_next'] > 0, 1, 0)\n",
    "\n",
    "    return df"
   ]
  },
  {
   "cell_type": "code",
   "execution_count": 50,
   "metadata": {},
   "outputs": [],
   "source": [
    "df = func_features(df)"
   ]
  },
  {
   "cell_type": "code",
   "execution_count": 51,
   "metadata": {
    "id": "SEt9GVFUOTqz"
   },
   "outputs": [],
   "source": [
    "def func_train_model(modelType,df,testDate):\n",
    "\n",
    "  if modelType == 'cb':\n",
    "    features = [col for col in df if col.startswith('f_')]\n",
    "    train = df[(df.index<testDate)].reindex()\n",
    "    test = df[(df.index>=testDate)].reindex()\n",
    "    X_train = train[features]\n",
    "    y_train = train['return_next']\n",
    "    model = CatBoostRegressor(loss_function='RMSE',depth=15, verbose=False, early_stopping_rounds=10)\n",
    "    model.fit(X_train,y_train)\n",
    "\n",
    "  if modelType == 'lr':\n",
    "    features = [col for col in df if col.startswith('f_')]\n",
    "    train = df[(df.index<testDate)].reindex()\n",
    "    test = df[(df.index>=testDate)].reindex()\n",
    "    X_train = train[features]\n",
    "    y_train = train['return_next']\n",
    "    model = LinearRegression()\n",
    "    model.fit(X_train,y_train)\n",
    "\n",
    "  if modelType == 'lr_ig':\n",
    "    features = [col for col in df if col.startswith('f_')]\n",
    "    train = df[(df.index<testDate)].reindex()\n",
    "    test = df[(df.index>=testDate)].reindex()\n",
    "    X_train = train[features]\n",
    "    y_train = train['return_next']\n",
    "\n",
    "    #mutual_info = mutual_info_regression(X_train,y_train)\n",
    "    #mutual_info = pd.Series(mutual_info)\n",
    "    #mutual_info.index = features\n",
    "    #mutual_info.sort_values(ascending=False)\n",
    "\n",
    "    bestCols =  SelectKBest(mutual_info_regression,k=10)\n",
    "    bestCols.fit(X_train,y_train)\n",
    "    features = list(X_train.columns[bestCols.get_support()])\n",
    "\n",
    "    X_train = train[features]\n",
    "    model = LinearRegression()\n",
    "    model.fit(X_train,y_train)\n",
    "\n",
    "  if modelType == 'lr_rfe':\n",
    "    features = [col for col in df if col.startswith('f_')]\n",
    "    train = df[(df.index<testDate)].reindex()\n",
    "    test = df[(df.index>=testDate)].reindex()\n",
    "    X_train = train[features]\n",
    "    y_train = train['return_next']\n",
    "    reg = LinearRegression()\n",
    "    model = RFE(reg, n_features_to_select=15)\n",
    "    model.fit(X_train,y_train)\n",
    "  if modelType == 'lr_reg':\n",
    "    features = [col for col in df if col.startswith('f_')]\n",
    "    train = df[(df.index<testDate)].reindex()\n",
    "    test = df[(df.index>=testDate)].reindex()\n",
    "    X_train = train[features]\n",
    "    y_train = train['return_next']\n",
    "    model = Ridge(alpha=1.0)\n",
    "    model.fit(X_train,y_train)\n",
    "  if modelType == 'lr_cor':\n",
    "    features = [col for col in df if col.startswith('f_')]\n",
    "    corr_matrix = df[features].corr().abs()\n",
    "    corr_matrix = corr_matrix.where(np.triu(np.ones(corr_matrix.shape), k=1).astype(np.bool_))\n",
    "    upper = corr_matrix.where(np.triu(np.ones(corr_matrix.shape), k =1).astype(np.bool_))\n",
    "    to_drop = [column for column in upper.columns if any(upper[column] > 0.75)]\n",
    "    features = [f for f in features if f not in to_drop]\n",
    "    train = df[(df.index<testDate)].reindex()\n",
    "    test = df[(df.index>=testDate)].reindex()\n",
    "    X_train = train[features]\n",
    "    y_train = train['return_next']\n",
    "    model = LinearRegression()\n",
    "    model.fit(X_train,y_train)\n",
    "  if modelType == 'dt':\n",
    "    features = [col for col in df if col.startswith('f_')]\n",
    "    train = df[(df.index<testDate)].reindex()\n",
    "    test = df[(df.index>=testDate)].reindex()\n",
    "    X_train = train[features]\n",
    "    y_train = train['return_next_class']\n",
    "    model = DecisionTreeClassifier(random_state=0,max_depth=5)\n",
    "    model.fit(X_train,y_train)\n",
    "  if modelType == 'elnet':\n",
    "    features = [col for col in df if col.startswith('f_')]\n",
    "    train = df[(df.index<testDate)].reindex()\n",
    "    test = df[(df.index>=testDate)].reindex()\n",
    "    X_train = train[features]\n",
    "    y_train = train['return_next']\n",
    "    alpha = [0.0001,0.001,0.1,1,10,100]\n",
    "    max_iter = [1000,10000]\n",
    "    l1_ratio = np.arange(0.0,1.0,0.1)\n",
    "    tol=[0.5]\n",
    "    elnet_gscv = GridSearchCV(estimator=ElasticNet(),param_grid={'alpha':alpha,'max_iter':max_iter,'l1_ratio':l1_ratio,'tol':tol}, scoring='r2',cv=5)\n",
    "    elnet_gscv.fit(X_train,y_train)\n",
    "    model = ElasticNet(alpha = elnet_gscv.best_params_['alpha'],\n",
    "                      max_iter = elnet_gscv.best_params_['max_iter'],\n",
    "                      l1_ratio = elnet_gscv.best_params_['l1_ratio'],\n",
    "                      tol = elnet_gscv.best_params_['tol'])\n",
    "    model.fit(X_train,y_train)\n",
    "\n",
    "  df['predict'] = model.predict(df[features])\n",
    "  df['predict'] = np.where(df['predict']>0,1,np.where(df['predict']<0,-1,0))\n",
    "  df['pnl'] = df['predict'] * df['return_next']\n",
    "  df['pnl_cumsum'] = df['pnl'].cumsum()\n",
    "  df['pnl_cumsum_max'] = df['pnl_cumsum'].cummax()\n",
    "  df['pnl_dd'] = df['pnl_cumsum_max'] - df['pnl_cumsum']\n",
    "  return df\n",
    "df = func_train_model('lr_reg',df,testDate)"
   ]
  },
  {
   "cell_type": "code",
   "execution_count": 52,
   "metadata": {
    "colab": {
     "base_uri": "https://localhost:8080/",
     "height": 438
    },
    "id": "Uo2nCb5YRPZv",
    "outputId": "905c1662-74d4-4d90-91c5-30a1b92cf177"
   },
   "outputs": [
    {
     "name": "stdout",
     "output_type": "stream",
     "text": [
      "            train     test\n",
      "PNL      : 5.96985    0.810052  \n",
      "MDD      : 0.32466    0.216537  \n",
      "Sharpe      : 18.388006  3.74094   \n"
     ]
    },
    {
     "data": {
      "image/png": "[encoded data removed]",
      "text/plain": [
       "<Figure size 2000x500 with 1 Axes>"
      ]
     },
     "metadata": {},
     "output_type": "display_data"
    }
   ],
   "source": [
    "sharpe = func_model_performance(df)\n",
    "func_plot(df)"
   ]
  },
  {
   "cell_type": "code",
   "execution_count": 53,
   "metadata": {
    "colab": {
     "base_uri": "https://localhost:8080/",
     "height": 244,
     "referenced_widgets": [
      "cac989378e7d4fd0b0ef8c3765279877",
      "3d85a2606c064e61a2bd0391ac9a5c59",
      "10a1ce72ff6a4eb5ac13d94641ae76cf",
      "9cf4e7994c0340528d9b2bf6828ee53c",
      "4bca3dff0024489c8eaf9e0d4e7d72b8",
      "67872b141c31465b9a72d4986274ca7a",
      "6664a7e440c24e44a1f3a46f4dc7edd1",
      "fcc3ce0533ef4dacad89b1f178b5bd05",
      "4c4e90baa95d4aec8c2768d42df05326",
      "9ca5775bf21343d7860e3bff743cdb06",
      "bc5b970b1fae4fbd9606ee3cd55102fa"
     ]
    },
    "id": "jcbHyWRMbZDe",
    "outputId": "a23e36d9-8622-40c0-a2f6-487697db913c"
   },
   "outputs": [
    {
     "name": "stderr",
     "output_type": "stream",
     "text": [
      "[I 2024-12-05 10:36:44,385] A new study created in memory with name: no-name-16c6b7c5-8d07-4599-9559-e47073b7cf0a\n",
      "Best trial: 0. Best value: 0.983053:   5%|▌         | 1/20 [00:05<01:37,  5.15s/it, 5.15/1000 seconds]"
     ]
    },
    {
     "name": "stdout",
     "output_type": "stream",
     "text": [
      "            train     test\n",
      "PNL      : 0.957404   0.257621  \n",
      "MDD      : 0.973909   0.972281  \n",
      "Sharpe      : 0.983053   0.264966  \n",
      "[I 2024-12-05 10:36:49,536] Trial 0 finished with value: 0.983053 and parameters: {'model_type': 'lr_ig'}. Best is trial 0 with value: 0.983053.\n"
     ]
    },
    {
     "name": "stderr",
     "output_type": "stream",
     "text": [
      "Best trial: 1. Best value: 6.74146:  10%|█         | 2/20 [00:06<00:48,  2.71s/it, 6.15/1000 seconds] "
     ]
    },
    {
     "name": "stdout",
     "output_type": "stream",
     "text": [
      "            train     test\n",
      "PNL      : 2.322755   0.430669  \n",
      "MDD      : 0.344548   0.333564  \n",
      "Sharpe      : 6.741455   1.291114  \n",
      "[I 2024-12-05 10:36:50,530] Trial 1 finished with value: 6.741455 and parameters: {'model_type': 'lr_rfe'}. Best is trial 1 with value: 6.741455.\n"
     ]
    },
    {
     "name": "stderr",
     "output_type": "stream",
     "text": [
      "Best trial: 2. Best value: 16.0961:  15%|█▌        | 3/20 [00:06<00:27,  1.62s/it, 6.48/1000 seconds]"
     ]
    },
    {
     "name": "stdout",
     "output_type": "stream",
     "text": [
      "            train     test\n",
      "PNL      : 4.594948   0.667149  \n",
      "MDD      : 0.28547    0.257399  \n",
      "Sharpe      : 16.09608   2.591887  \n",
      "[I 2024-12-05 10:36:50,865] Trial 2 finished with value: 16.09608 and parameters: {'model_type': 'lr_cor'}. Best is trial 2 with value: 16.09608.\n"
     ]
    },
    {
     "name": "stderr",
     "output_type": "stream",
     "text": [
      "Best trial: 2. Best value: 16.0961:  20%|██        | 4/20 [00:06<00:17,  1.10s/it, 6.79/1000 seconds]"
     ]
    },
    {
     "name": "stdout",
     "output_type": "stream",
     "text": [
      "            train     test\n",
      "PNL      : 1.929031   0.303004  \n",
      "MDD      : 0.300714   0.286138  \n",
      "Sharpe      : 6.414836   1.058944  \n",
      "[I 2024-12-05 10:36:51,171] Trial 3 finished with value: 6.414836 and parameters: {'model_type': 'dt'}. Best is trial 2 with value: 16.09608.\n"
     ]
    },
    {
     "name": "stderr",
     "output_type": "stream",
     "text": [
      "Best trial: 2. Best value: 16.0961:  25%|██▌       | 5/20 [00:07<00:16,  1.07s/it, 7.79/1000 seconds]"
     ]
    },
    {
     "name": "stdout",
     "output_type": "stream",
     "text": [
      "            train     test\n",
      "PNL      : 2.322755   0.430669  \n",
      "MDD      : 0.344548   0.333564  \n",
      "Sharpe      : 6.741455   1.291114  \n",
      "[I 2024-12-05 10:36:52,179] Trial 4 finished with value: 6.741455 and parameters: {'model_type': 'lr_rfe'}. Best is trial 2 with value: 16.09608.\n"
     ]
    },
    {
     "name": "stderr",
     "output_type": "stream",
     "text": [
      "Best trial: 5. Best value: 38949.2:  30%|███       | 6/20 [10:07<47:46, 204.75s/it, 607.93/1000 seconds]"
     ]
    },
    {
     "name": "stdout",
     "output_type": "stream",
     "text": [
      "            train     test\n",
      "PNL      : 74.04251   0.924013  \n",
      "MDD      : 0.001901   0.258356  \n",
      "Sharpe      : 38949.242504 3.576511  \n",
      "[I 2024-12-05 10:46:52,312] Trial 5 finished with value: 38949.242504 and parameters: {'model_type': 'cb'}. Best is trial 5 with value: 38949.242504.\n"
     ]
    },
    {
     "name": "stderr",
     "output_type": "stream",
     "text": [
      "Best trial: 5. Best value: 38949.2:  35%|███▌      | 7/20 [14:40<49:11, 227.01s/it, 880.77/1000 seconds]"
     ]
    },
    {
     "name": "stdout",
     "output_type": "stream",
     "text": [
      "            train     test\n",
      "PNL      : 3.900918   0.829467  \n",
      "MDD      : 0.407615   0.397984  \n",
      "Sharpe      : 9.570104   2.084172  \n",
      "[I 2024-12-05 10:51:25,148] Trial 6 finished with value: 9.570104 and parameters: {'model_type': 'elnet'}. Best is trial 5 with value: 38949.242504.\n"
     ]
    },
    {
     "name": "stderr",
     "output_type": "stream",
     "text": [
      "Best trial: 5. Best value: 38949.2:  40%|████      | 8/20 [14:50<31:35, 157.92s/it, 890.74/1000 seconds]"
     ]
    },
    {
     "name": "stdout",
     "output_type": "stream",
     "text": [
      "            train     test\n",
      "PNL      : 0.957404   0.257621  \n",
      "MDD      : 0.973909   0.972281  \n",
      "Sharpe      : 0.983053   0.264966  \n",
      "[I 2024-12-05 10:51:35,126] Trial 7 finished with value: 0.983053 and parameters: {'model_type': 'lr_ig'}. Best is trial 5 with value: 38949.242504.\n"
     ]
    },
    {
     "name": "stderr",
     "output_type": "stream",
     "text": [
      "Best trial: 5. Best value: 38949.2:  45%|████▌     | 9/20 [14:51<19:55, 108.72s/it, 891.27/1000 seconds]"
     ]
    },
    {
     "name": "stdout",
     "output_type": "stream",
     "text": [
      "            train     test\n",
      "PNL      : 1.929031   0.303004  \n",
      "MDD      : 0.300714   0.286138  \n",
      "Sharpe      : 6.414836   1.058944  \n",
      "[I 2024-12-05 10:51:35,654] Trial 8 finished with value: 6.414836 and parameters: {'model_type': 'dt'}. Best is trial 5 with value: 38949.242504.\n"
     ]
    },
    {
     "name": "stderr",
     "output_type": "stream",
     "text": [
      "Best trial: 5. Best value: 38949.2:  50%|█████     | 10/20 [30:38<30:38, 183.90s/it, 1838.95/1000 seconds]  "
     ]
    },
    {
     "name": "stdout",
     "output_type": "stream",
     "text": [
      "            train     test\n",
      "PNL      : 74.04251   0.924013  \n",
      "MDD      : 0.001901   0.258356  \n",
      "Sharpe      : 38949.242504 3.576511  \n",
      "[I 2024-12-05 11:07:23,335] Trial 9 finished with value: 38949.242504 and parameters: {'model_type': 'cb'}. Best is trial 5 with value: 38949.242504.\n"
     ]
    },
    {
     "name": "stderr",
     "output_type": "stream",
     "text": [
      "\n"
     ]
    }
   ],
   "source": [
    "import optuna\n",
    "from functools import partial\n",
    "\n",
    "def objective(trial, testDate=testDate, df=df):\n",
    "\n",
    "  #length_rsi = int(trial.suggest_categorical(\"length_rsi\",[\"6\",\"12\",\"18\",\"24\",\"30\",\"36\"]))\n",
    "  #length_pvt = int(trial.suggest_categorical(\"length_pvt\",[\"6\",\"12\",\"18\",\"24\",\"30\",\"36\"]))\n",
    "  model_type = trial.suggest_categorical(\"model_type\",[\"lr\",\"dt\",\"lr_reg\",\"lr_cor\",\"lr_rfe\",\"elnet\",\"lr_ig\",\"cb\"])\n",
    "\n",
    "  df = func_features(df)\n",
    "  df = func_train_model(model_type,df,testDate)\n",
    "  sharpe = func_model_performance(df)\n",
    "\n",
    "  return sharpe\n",
    "\n",
    "study = optuna.create_study(direction=\"maximize\")\n",
    "study.optimize(objective, n_trials = 20, timeout = 1000, show_progress_bar = True)"
   ]
  },
  {
   "cell_type": "code",
   "execution_count": 54,
   "metadata": {
    "colab": {
     "base_uri": "https://localhost:8080/",
     "height": 896
    },
    "id": "0jQe63dRKQqR",
    "outputId": "de3eb7d1-d023-4491-a2ee-44b1f23053de"
   },
   "outputs": [
    {
     "data": {
      "image/png": "[encoded data removed]",
      "text/plain": [
       "<Figure size 1200x1000 with 2 Axes>"
      ]
     },
     "metadata": {},
     "output_type": "display_data"
    }
   ],
   "source": [
    "import seaborn as sns\n",
    "features = [col for col in df if col.startswith('f_')]\n",
    "plt.figure(figsize=(12,10))\n",
    "cor = df[features].corr()\n",
    "sns.heatmap(cor,annot=False, cmap=plt.cm.Reds)\n",
    "plt.show()"
   ]
  }
 ],
 "metadata": {
  "colab": {
   "provenance": []
  },
  "kernelspec": {
   "display_name": ".venv",
   "language": "python",
   "name": "python3"
  },
  "language_info": {
   "codemirror_mode": {
    "name": "ipython",
    "version": 3
   },
   "file_extension": ".py",
   "mimetype": "text/x-python",
   "name": "python",
   "nbconvert_exporter": "python",
   "pygments_lexer": "ipython3",
   "version": "3.12.4"
  },
  "widgets": {
   "application/vnd.jupyter.widget-state+json": {
    "10a1ce72ff6a4eb5ac13d94641ae76cf": {
     "model_module": "@jupyter-widgets/controls",
     "model_module_version": "1.5.0",
     "model_name": "FloatProgressModel",
     "state": {
      "_dom_classes": [],
      "_model_module": "@jupyter-widgets/controls",
      "_model_module_version": "1.5.0",
      "_model_name": "FloatProgressModel",
      "_view_count": null,
      "_view_module": "@jupyter-widgets/controls",
      "_view_module_version": "1.5.0",
      "_view_name": "ProgressView",
      "bar_style": "danger",
      "description": "",
      "description_tooltip": null,
      "layout": "IPY_MODEL_fcc3ce0533ef4dacad89b1f178b5bd05",
      "max": 20,
      "min": 0,
      "orientation": "horizontal",
      "style": "IPY_MODEL_4c4e90baa95d4aec8c2768d42df05326",
      "value": 2
     }
    },
    "3d85a2606c064e61a2bd0391ac9a5c59": {
     "model_module": "@jupyter-widgets/controls",
     "model_module_version": "1.5.0",
     "model_name": "HTMLModel",
     "state": {
      "_dom_classes": [],
      "_model_module": "@jupyter-widgets/controls",
      "_model_module_version": "1.5.0",
      "_model_name": "HTMLModel",
      "_view_count": null,
      "_view_module": "@jupyter-widgets/controls",
      "_view_module_version": "1.5.0",
      "_view_name": "HTMLView",
      "description": "",
      "description_tooltip": null,
      "layout": "IPY_MODEL_67872b141c31465b9a72d4986274ca7a",
      "placeholder": "​",
      "style": "IPY_MODEL_6664a7e440c24e44a1f3a46f4dc7edd1",
      "value": "Best trial: 1. Best value: 7543.58:  10%"
     }
    },
    "4bca3dff0024489c8eaf9e0d4e7d72b8": {
     "model_module": "@jupyter-widgets/base",
     "model_module_version": "1.2.0",
     "model_name": "LayoutModel",
     "state": {
      "_model_module": "@jupyter-widgets/base",
      "_model_module_version": "1.2.0",
      "_model_name": "LayoutModel",
      "_view_count": null,
      "_view_module": "@jupyter-widgets/base",
      "_view_module_version": "1.2.0",
      "_view_name": "LayoutView",
      "align_content": null,
      "align_items": null,
      "align_self": null,
      "border": null,
      "bottom": null,
      "display": null,
      "flex": null,
      "flex_flow": null,
      "grid_area": null,
      "grid_auto_columns": null,
      "grid_auto_flow": null,
      "grid_auto_rows": null,
      "grid_column": null,
      "grid_gap": null,
      "grid_row": null,
      "grid_template_areas": null,
      "grid_template_columns": null,
      "grid_template_rows": null,
      "height": null,
      "justify_content": null,
      "justify_items": null,
      "left": null,
      "margin": null,
      "max_height": null,
      "max_width": null,
      "min_height": null,
      "min_width": null,
      "object_fit": null,
      "object_position": null,
      "order": null,
      "overflow": null,
      "overflow_x": null,
      "overflow_y": null,
      "padding": null,
      "right": null,
      "top": null,
      "visibility": null,
      "width": null
     }
    },
    "4c4e90baa95d4aec8c2768d42df05326": {
     "model_module": "@jupyter-widgets/controls",
     "model_module_version": "1.5.0",
     "model_name": "ProgressStyleModel",
     "state": {
      "_model_module": "@jupyter-widgets/controls",
      "_model_module_version": "1.5.0",
      "_model_name": "ProgressStyleModel",
      "_view_count": null,
      "_view_module": "@jupyter-widgets/base",
      "_view_module_version": "1.2.0",
      "_view_name": "StyleView",
      "bar_color": null,
      "description_width": ""
     }
    },
    "6664a7e440c24e44a1f3a46f4dc7edd1": {
     "model_module": "@jupyter-widgets/controls",
     "model_module_version": "1.5.0",
     "model_name": "DescriptionStyleModel",
     "state": {
      "_model_module": "@jupyter-widgets/controls",
      "_model_module_version": "1.5.0",
      "_model_name": "DescriptionStyleModel",
      "_view_count": null,
      "_view_module": "@jupyter-widgets/base",
      "_view_module_version": "1.2.0",
      "_view_name": "StyleView",
      "description_width": ""
     }
    },
    "67872b141c31465b9a72d4986274ca7a": {
     "model_module": "@jupyter-widgets/base",
     "model_module_version": "1.2.0",
     "model_name": "LayoutModel",
     "state": {
      "_model_module": "@jupyter-widgets/base",
      "_model_module_version": "1.2.0",
      "_model_name": "LayoutModel",
      "_view_count": null,
      "_view_module": "@jupyter-widgets/base",
      "_view_module_version": "1.2.0",
      "_view_name": "LayoutView",
      "align_content": null,
      "align_items": null,
      "align_self": null,
      "border": null,
      "bottom": null,
      "display": null,
      "flex": null,
      "flex_flow": null,
      "grid_area": null,
      "grid_auto_columns": null,
      "grid_auto_flow": null,
      "grid_auto_rows": null,
      "grid_column": null,
      "grid_gap": null,
      "grid_row": null,
      "grid_template_areas": null,
      "grid_template_columns": null,
      "grid_template_rows": null,
      "height": null,
      "justify_content": null,
      "justify_items": null,
      "left": null,
      "margin": null,
      "max_height": null,
      "max_width": null,
      "min_height": null,
      "min_width": null,
      "object_fit": null,
      "object_position": null,
      "order": null,
      "overflow": null,
      "overflow_x": null,
      "overflow_y": null,
      "padding": null,
      "right": null,
      "top": null,
      "visibility": null,
      "width": null
     }
    },
    "9ca5775bf21343d7860e3bff743cdb06": {
     "model_module": "@jupyter-widgets/base",
     "model_module_version": "1.2.0",
     "model_name": "LayoutModel",
     "state": {
      "_model_module": "@jupyter-widgets/base",
      "_model_module_version": "1.2.0",
      "_model_name": "LayoutModel",
      "_view_count": null,
      "_view_module": "@jupyter-widgets/base",
      "_view_module_version": "1.2.0",
      "_view_name": "LayoutView",
      "align_content": null,
      "align_items": null,
      "align_self": null,
      "border": null,
      "bottom": null,
      "display": null,
      "flex": null,
      "flex_flow": null,
      "grid_area": null,
      "grid_auto_columns": null,
      "grid_auto_flow": null,
      "grid_auto_rows": null,
      "grid_column": null,
      "grid_gap": null,
      "grid_row": null,
      "grid_template_areas": null,
      "grid_template_columns": null,
      "grid_template_rows": null,
      "height": null,
      "justify_content": null,
      "justify_items": null,
      "left": null,
      "margin": null,
      "max_height": null,
      "max_width": null,
      "min_height": null,
      "min_width": null,
      "object_fit": null,
      "object_position": null,
      "order": null,
      "overflow": null,
      "overflow_x": null,
      "overflow_y": null,
      "padding": null,
      "right": null,
      "top": null,
      "visibility": null,
      "width": null
     }
    },
    "9cf4e7994c0340528d9b2bf6828ee53c": {
     "model_module": "@jupyter-widgets/controls",
     "model_module_version": "1.5.0",
     "model_name": "HTMLModel",
     "state": {
      "_dom_classes": [],
      "_model_module": "@jupyter-widgets/controls",
      "_model_module_version": "1.5.0",
      "_model_name": "HTMLModel",
      "_view_count": null,
      "_view_module": "@jupyter-widgets/controls",
      "_view_module_version": "1.5.0",
      "_view_name": "HTMLView",
      "description": "",
      "description_tooltip": null,
      "layout": "IPY_MODEL_9ca5775bf21343d7860e3bff743cdb06",
      "placeholder": "​",
      "style": "IPY_MODEL_bc5b970b1fae4fbd9606ee3cd55102fa",
      "value": " 2/20 [48:41&lt;8:33:41, 1712.32s/it, 2921.67/1000 seconds]"
     }
    },
    "bc5b970b1fae4fbd9606ee3cd55102fa": {
     "model_module": "@jupyter-widgets/controls",
     "model_module_version": "1.5.0",
     "model_name": "DescriptionStyleModel",
     "state": {
      "_model_module": "@jupyter-widgets/controls",
      "_model_module_version": "1.5.0",
      "_model_name": "DescriptionStyleModel",
      "_view_count": null,
      "_view_module": "@jupyter-widgets/base",
      "_view_module_version": "1.2.0",
      "_view_name": "StyleView",
      "description_width": ""
     }
    },
    "cac989378e7d4fd0b0ef8c3765279877": {
     "model_module": "@jupyter-widgets/controls",
     "model_module_version": "1.5.0",
     "model_name": "HBoxModel",
     "state": {
      "_dom_classes": [],
      "_model_module": "@jupyter-widgets/controls",
      "_model_module_version": "1.5.0",
      "_model_name": "HBoxModel",
      "_view_count": null,
      "_view_module": "@jupyter-widgets/controls",
      "_view_module_version": "1.5.0",
      "_view_name": "HBoxView",
      "box_style": "",
      "children": [
       "IPY_MODEL_3d85a2606c064e61a2bd0391ac9a5c59",
       "IPY_MODEL_10a1ce72ff6a4eb5ac13d94641ae76cf",
       "IPY_MODEL_9cf4e7994c0340528d9b2bf6828ee53c"
      ],
      "layout": "IPY_MODEL_4bca3dff0024489c8eaf9e0d4e7d72b8"
     }
    },
    "fcc3ce0533ef4dacad89b1f178b5bd05": {
     "model_module": "@jupyter-widgets/base",
     "model_module_version": "1.2.0",
     "model_name": "LayoutModel",
     "state": {
      "_model_module": "@jupyter-widgets/base",
      "_model_module_version": "1.2.0",
      "_model_name": "LayoutModel",
      "_view_count": null,
      "_view_module": "@jupyter-widgets/base",
      "_view_module_version": "1.2.0",
      "_view_name": "LayoutView",
      "align_content": null,
      "align_items": null,
      "align_self": null,
      "border": null,
      "bottom": null,
      "display": null,
      "flex": null,
      "flex_flow": null,
      "grid_area": null,
      "grid_auto_columns": null,
      "grid_auto_flow": null,
      "grid_auto_rows": null,
      "grid_column": null,
      "grid_gap": null,
      "grid_row": null,
      "grid_template_areas": null,
      "grid_template_columns": null,
      "grid_template_rows": null,
      "height": null,
      "justify_content": null,
      "justify_items": null,
      "left": null,
      "margin": null,
      "max_height": null,
      "max_width": null,
      "min_height": null,
      "min_width": null,
      "object_fit": null,
      "object_position": null,
      "order": null,
      "overflow": null,
      "overflow_x": null,
      "overflow_y": null,
      "padding": null,
      "right": null,
      "top": null,
      "visibility": null,
      "width": null
     }
    }
   }
  }
 },
 "nbformat": 4,
 "nbformat_minor": 0
}
