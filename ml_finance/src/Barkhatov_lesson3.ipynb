{
 "cells": [
  {
   "cell_type": "code",
   "execution_count": 1,
   "metadata": {
    "id": "hjlOdnCp9Juu"
   },
   "outputs": [],
   "source": [
    "#!pip install pandas_ta\n",
    "#!pip install optuna\n",
    "#!pip install python-binance\n",
    "#!pip install catboost"
   ]
  },
  {
   "cell_type": "code",
   "execution_count": 2,
   "metadata": {
    "id": "6WydC66U_s5f"
   },
   "outputs": [],
   "source": [
    "import matplotlib.pyplot as plt\n",
    "import requests\n",
    "import numpy as np\n",
    "import pandas as pd\n",
    "import pandas_ta as ta\n",
    "from datetime import datetime\n",
    "from binance.client import Client\n",
    "client = Client(tld='us')\n",
    "\n",
    "from sklearn.linear_model import LinearRegression\n",
    "from sklearn.tree import DecisionTreeClassifier\n",
    "from sklearn.linear_model import Ridge\n",
    "from sklearn.feature_selection import RFE\n",
    "from sklearn.linear_model import ElasticNet\n",
    "from sklearn.feature_selection import mutual_info_regression\n",
    "from sklearn.feature_selection import SelectKBest"
   ]
  },
  {
   "cell_type": "code",
   "execution_count": 3,
   "metadata": {
    "id": "3Ewd2NJiAkEo"
   },
   "outputs": [],
   "source": [
    "startDate = '2022-01-01 00:00:00'\n",
    "testDate  = '2024-06-01 00:00:00'\n",
    "r = client.get_historical_klines('BTCUSDT','5m',startDate)"
   ]
  },
  {
   "cell_type": "code",
   "execution_count": 4,
   "metadata": {
    "colab": {
     "base_uri": "https://localhost:8080/",
     "height": 143
    },
    "id": "G0OlX968DOhj",
    "outputId": "5ef79abd-a4a2-40a5-b800-874ff6e2c015"
   },
   "outputs": [
    {
     "data": {
      "text/html": [
       "<div>\n",
       "<style scoped>\n",
       "    .dataframe tbody tr th:only-of-type {\n",
       "        vertical-align: middle;\n",
       "    }\n",
       "\n",
       "    .dataframe tbody tr th {\n",
       "        vertical-align: top;\n",
       "    }\n",
       "\n",
       "    .dataframe thead th {\n",
       "        text-align: right;\n",
       "    }\n",
       "</style>\n",
       "<table border=\"1\" class=\"dataframe\">\n",
       "  <thead>\n",
       "    <tr style=\"text-align: right;\">\n",
       "      <th></th>\n",
       "      <th>openTime</th>\n",
       "      <th>openPrice</th>\n",
       "      <th>highPrice</th>\n",
       "      <th>lowPrice</th>\n",
       "      <th>closePrice</th>\n",
       "      <th>volume</th>\n",
       "      <th>quoteAssetVolume</th>\n",
       "      <th>NumberOfTrades</th>\n",
       "      <th>TakerBaseVolume</th>\n",
       "      <th>TakerQuoteVolume</th>\n",
       "      <th>Ignore</th>\n",
       "      <th>return</th>\n",
       "      <th>return_next</th>\n",
       "      <th>predict</th>\n",
       "    </tr>\n",
       "    <tr>\n",
       "      <th>closeTime</th>\n",
       "      <th></th>\n",
       "      <th></th>\n",
       "      <th></th>\n",
       "      <th></th>\n",
       "      <th></th>\n",
       "      <th></th>\n",
       "      <th></th>\n",
       "      <th></th>\n",
       "      <th></th>\n",
       "      <th></th>\n",
       "      <th></th>\n",
       "      <th></th>\n",
       "      <th></th>\n",
       "      <th></th>\n",
       "    </tr>\n",
       "  </thead>\n",
       "  <tbody>\n",
       "    <tr>\n",
       "      <th>2022-01-01 00:04:59.999</th>\n",
       "      <td>1640995200000</td>\n",
       "      <td>46192.43</td>\n",
       "      <td>46377.56</td>\n",
       "      <td>46192.43</td>\n",
       "      <td>46317.57</td>\n",
       "      <td>5.050394</td>\n",
       "      <td>233839.23426489</td>\n",
       "      <td>114</td>\n",
       "      <td>3.61709700</td>\n",
       "      <td>167437.16632386</td>\n",
       "      <td>0</td>\n",
       "      <td>NaN</td>\n",
       "      <td>0.000568</td>\n",
       "      <td>1</td>\n",
       "    </tr>\n",
       "    <tr>\n",
       "      <th>2022-01-01 00:09:59.999</th>\n",
       "      <td>1640995500000</td>\n",
       "      <td>46303.29</td>\n",
       "      <td>46502.74</td>\n",
       "      <td>46283.94</td>\n",
       "      <td>46343.89</td>\n",
       "      <td>1.726150</td>\n",
       "      <td>80140.26585505</td>\n",
       "      <td>101</td>\n",
       "      <td>1.13397100</td>\n",
       "      <td>52671.64021728</td>\n",
       "      <td>0</td>\n",
       "      <td>0.000568</td>\n",
       "      <td>-0.000089</td>\n",
       "      <td>1</td>\n",
       "    </tr>\n",
       "  </tbody>\n",
       "</table>\n",
       "</div>"
      ],
      "text/plain": [
       "                              openTime  openPrice  highPrice  lowPrice  \\\n",
       "closeTime                                                                \n",
       "2022-01-01 00:04:59.999  1640995200000   46192.43   46377.56  46192.43   \n",
       "2022-01-01 00:09:59.999  1640995500000   46303.29   46502.74  46283.94   \n",
       "\n",
       "                         closePrice    volume quoteAssetVolume  \\\n",
       "closeTime                                                        \n",
       "2022-01-01 00:04:59.999    46317.57  5.050394  233839.23426489   \n",
       "2022-01-01 00:09:59.999    46343.89  1.726150   80140.26585505   \n",
       "\n",
       "                         NumberOfTrades TakerBaseVolume TakerQuoteVolume  \\\n",
       "closeTime                                                                  \n",
       "2022-01-01 00:04:59.999             114      3.61709700  167437.16632386   \n",
       "2022-01-01 00:09:59.999             101      1.13397100   52671.64021728   \n",
       "\n",
       "                        Ignore    return  return_next  predict  \n",
       "closeTime                                                       \n",
       "2022-01-01 00:04:59.999      0       NaN     0.000568        1  \n",
       "2022-01-01 00:09:59.999      0  0.000568    -0.000089        1  "
      ]
     },
     "execution_count": 4,
     "metadata": {},
     "output_type": "execute_result"
    }
   ],
   "source": [
    "df = pd.DataFrame(r)\n",
    "colnames = ['openTime','openPrice','highPrice','lowPrice','closePrice','volume','closeTime','quoteAssetVolume','NumberOfTrades','TakerBaseVolume','TakerQuoteVolume','Ignore']\n",
    "df.columns = colnames\n",
    "df['closeTime'] = pd.to_datetime(df['closeTime'], unit='ms')\n",
    "df = df.astype({'closePrice':'float','openPrice':'float','highPrice':'float','lowPrice':'float','volume':'float'})\n",
    "df['return'] = df['closePrice'].pct_change()\n",
    "df['return_next'] = df['return'].shift(-1).fillna(0)\n",
    "df['predict'] = 1\n",
    "df.set_index(\"closeTime\", inplace= True)\n",
    "df.head(2)"
   ]
  },
  {
   "cell_type": "code",
   "execution_count": 5,
   "metadata": {
    "colab": {
     "base_uri": "https://localhost:8080/",
     "height": 445
    },
    "id": "fIr85nvhGJ3i",
    "outputId": "67deab45-a3b4-43cd-a507-8865d2327faa"
   },
   "outputs": [
    {
     "data": {
      "image/png": "[encoded data removed]",
      "text/plain": [
       "<Figure size 2000x500 with 1 Axes>"
      ]
     },
     "metadata": {},
     "output_type": "display_data"
    }
   ],
   "source": [
    "def func_plot(df):\n",
    "  df['pnl'] = df['return_next'] * df['predict']\n",
    "  df['pnl_cumsum'] = df['pnl'].cumsum()\n",
    "  df['pnl_cumsum_max'] = df['pnl_cumsum'].cummax()\n",
    "  df['pnl_dd'] = df['pnl_cumsum_max'] - df['pnl_cumsum']\n",
    "  plt.figure(figsize=(20,5))\n",
    "  plt.plot(df['pnl_cumsum'],color='orange')\n",
    "  plt.plot(df['pnl_cumsum_max'],color='red')\n",
    "  plt.axvline(x = pd.to_datetime(testDate), color='black')\n",
    "  plt.grid()\n",
    "  plt.show()\n",
    "\n",
    "func_plot(df)"
   ]
  },
  {
   "cell_type": "code",
   "execution_count": 6,
   "metadata": {
    "id": "rLnQeH8SH9fa"
   },
   "outputs": [],
   "source": [
    "def func_model_performance(df):\n",
    "  train = df[(df.index<testDate)].reindex()\n",
    "  test = df[(df.index>=testDate)].reindex()\n",
    "\n",
    "  pnl_train = round(train['pnl'].sum(),6)\n",
    "  pnl_test = round(test['pnl'].sum(),6)\n",
    "\n",
    "  mdd_train = round(train['pnl_dd'].max(),6)\n",
    "  mdd_test = round(test['pnl_dd'].max(),6)\n",
    "\n",
    "  sharpe_train = round(pnl_train/mdd_train,6)\n",
    "  sharpe_test = round(pnl_test/mdd_test,6)\n",
    "\n",
    "  print('            train     test')\n",
    "  print('PNL      : {0: <10}'.format(pnl_train),'{0: <10}'.format(pnl_test))\n",
    "  print('MDD      : {0: <10}'.format(mdd_train),'{0: <10}'.format(mdd_test))\n",
    "  print('Sharpe      : {0: <10}'.format(sharpe_train),'{0: <10}'.format(sharpe_test))\n",
    "  return sharpe_train"
   ]
  },
  {
   "cell_type": "code",
   "execution_count": 7,
   "metadata": {
    "colab": {
     "base_uri": "https://localhost:8080/"
    },
    "id": "35fYPc0ULO1G",
    "outputId": "c19cee3a-69c5-483e-ff9b-40956a3e0352"
   },
   "outputs": [
    {
     "name": "stdout",
     "output_type": "stream",
     "text": [
      "Help on function macd in module pandas_ta.momentum.macd:\n",
      "\n",
      "macd(close, fast=None, slow=None, signal=None, talib=None, offset=None, **kwargs)\n",
      "    Moving Average Convergence Divergence (MACD)\n",
      "\n",
      "    The MACD is a popular indicator to that is used to identify a security's trend.\n",
      "    While APO and MACD are the same calculation, MACD also returns two more series\n",
      "    called Signal and Histogram. The Signal is an EMA of MACD and the Histogram is\n",
      "    the difference of MACD and Signal.\n",
      "\n",
      "    Sources:\n",
      "        https://www.tradingview.com/wiki/MACD_(Moving_Average_Convergence/Divergence)\n",
      "        AS Mode: https://tr.tradingview.com/script/YFlKXHnP/\n",
      "\n",
      "    Calculation:\n",
      "        Default Inputs:\n",
      "            fast=12, slow=26, signal=9\n",
      "        EMA = Exponential Moving Average\n",
      "        MACD = EMA(close, fast) - EMA(close, slow)\n",
      "        Signal = EMA(MACD, signal)\n",
      "        Histogram = MACD - Signal\n",
      "\n",
      "        if asmode:\n",
      "            MACD = MACD - Signal\n",
      "            Signal = EMA(MACD, signal)\n",
      "            Histogram = MACD - Signal\n",
      "\n",
      "    Args:\n",
      "        close (pd.Series): Series of 'close's\n",
      "        fast (int): The short period. Default: 12\n",
      "        slow (int): The long period. Default: 26\n",
      "        signal (int): The signal period. Default: 9\n",
      "        talib (bool): If TA Lib is installed and talib is True, Returns the TA Lib\n",
      "            version. Default: True\n",
      "        offset (int): How many periods to offset the result. Default: 0\n",
      "\n",
      "    Kwargs:\n",
      "        asmode (value, optional): When True, enables AS version of MACD.\n",
      "            Default: False\n",
      "        fillna (value, optional): pd.DataFrame.fillna(value)\n",
      "        fill_method (value, optional): Type of fill method\n",
      "\n",
      "    Returns:\n",
      "        pd.DataFrame: macd, histogram, signal columns.\n",
      "\n"
     ]
    }
   ],
   "source": [
    "help(ta.macd)"
   ]
  },
  {
   "cell_type": "code",
   "execution_count": 8,
   "metadata": {
    "colab": {
     "base_uri": "https://localhost:8080/",
     "height": 454
    },
    "id": "dMGS5sfaXXU0",
    "outputId": "540a201c-4033-4973-9c1a-de28d3df6823"
   },
   "outputs": [
    {
     "data": {
      "text/html": [
       "<div>\n",
       "<style scoped>\n",
       "    .dataframe tbody tr th:only-of-type {\n",
       "        vertical-align: middle;\n",
       "    }\n",
       "\n",
       "    .dataframe tbody tr th {\n",
       "        vertical-align: top;\n",
       "    }\n",
       "\n",
       "    .dataframe thead th {\n",
       "        text-align: right;\n",
       "    }\n",
       "</style>\n",
       "<table border=\"1\" class=\"dataframe\">\n",
       "  <thead>\n",
       "    <tr style=\"text-align: right;\">\n",
       "      <th></th>\n",
       "      <th>MACD_12_26_9</th>\n",
       "      <th>MACDh_12_26_9</th>\n",
       "      <th>MACDs_12_26_9</th>\n",
       "    </tr>\n",
       "    <tr>\n",
       "      <th>closeTime</th>\n",
       "      <th></th>\n",
       "      <th></th>\n",
       "      <th></th>\n",
       "    </tr>\n",
       "  </thead>\n",
       "  <tbody>\n",
       "    <tr>\n",
       "      <th>2022-01-01 00:04:59.999</th>\n",
       "      <td>NaN</td>\n",
       "      <td>NaN</td>\n",
       "      <td>NaN</td>\n",
       "    </tr>\n",
       "    <tr>\n",
       "      <th>2022-01-01 00:09:59.999</th>\n",
       "      <td>NaN</td>\n",
       "      <td>NaN</td>\n",
       "      <td>NaN</td>\n",
       "    </tr>\n",
       "    <tr>\n",
       "      <th>2022-01-01 00:14:59.999</th>\n",
       "      <td>NaN</td>\n",
       "      <td>NaN</td>\n",
       "      <td>NaN</td>\n",
       "    </tr>\n",
       "    <tr>\n",
       "      <th>2022-01-01 00:19:59.999</th>\n",
       "      <td>NaN</td>\n",
       "      <td>NaN</td>\n",
       "      <td>NaN</td>\n",
       "    </tr>\n",
       "    <tr>\n",
       "      <th>2022-01-01 00:24:59.999</th>\n",
       "      <td>NaN</td>\n",
       "      <td>NaN</td>\n",
       "      <td>NaN</td>\n",
       "    </tr>\n",
       "    <tr>\n",
       "      <th>...</th>\n",
       "      <td>...</td>\n",
       "      <td>...</td>\n",
       "      <td>...</td>\n",
       "    </tr>\n",
       "    <tr>\n",
       "      <th>2024-12-05 07:24:59.999</th>\n",
       "      <td>-186.394886</td>\n",
       "      <td>-7.833307</td>\n",
       "      <td>-178.561580</td>\n",
       "    </tr>\n",
       "    <tr>\n",
       "      <th>2024-12-05 07:29:59.999</th>\n",
       "      <td>-161.804470</td>\n",
       "      <td>13.405688</td>\n",
       "      <td>-175.210158</td>\n",
       "    </tr>\n",
       "    <tr>\n",
       "      <th>2024-12-05 07:34:59.999</th>\n",
       "      <td>-145.665944</td>\n",
       "      <td>23.635371</td>\n",
       "      <td>-169.301315</td>\n",
       "    </tr>\n",
       "    <tr>\n",
       "      <th>2024-12-05 07:39:59.999</th>\n",
       "      <td>-101.828570</td>\n",
       "      <td>53.978196</td>\n",
       "      <td>-155.806766</td>\n",
       "    </tr>\n",
       "    <tr>\n",
       "      <th>2024-12-05 07:44:59.999</th>\n",
       "      <td>-66.322610</td>\n",
       "      <td>71.587325</td>\n",
       "      <td>-137.909935</td>\n",
       "    </tr>\n",
       "  </tbody>\n",
       "</table>\n",
       "<p>307873 rows × 3 columns</p>\n",
       "</div>"
      ],
      "text/plain": [
       "                         MACD_12_26_9  MACDh_12_26_9  MACDs_12_26_9\n",
       "closeTime                                                          \n",
       "2022-01-01 00:04:59.999           NaN            NaN            NaN\n",
       "2022-01-01 00:09:59.999           NaN            NaN            NaN\n",
       "2022-01-01 00:14:59.999           NaN            NaN            NaN\n",
       "2022-01-01 00:19:59.999           NaN            NaN            NaN\n",
       "2022-01-01 00:24:59.999           NaN            NaN            NaN\n",
       "...                               ...            ...            ...\n",
       "2024-12-05 07:24:59.999   -186.394886      -7.833307    -178.561580\n",
       "2024-12-05 07:29:59.999   -161.804470      13.405688    -175.210158\n",
       "2024-12-05 07:34:59.999   -145.665944      23.635371    -169.301315\n",
       "2024-12-05 07:39:59.999   -101.828570      53.978196    -155.806766\n",
       "2024-12-05 07:44:59.999    -66.322610      71.587325    -137.909935\n",
       "\n",
       "[307873 rows x 3 columns]"
      ]
     },
     "execution_count": 8,
     "metadata": {},
     "output_type": "execute_result"
    }
   ],
   "source": [
    "df.ta(kind='MACD',append=True,centered=False,high='highPrice',low='lowPrice',volume='volume',close='closePrice',length=6)"
   ]
  },
  {
   "cell_type": "code",
   "execution_count": 11,
   "metadata": {},
   "outputs": [],
   "source": [
    "columns_to_convert = ['quoteAssetVolume', 'TakerBaseVolume', 'TakerQuoteVolume', 'Ignore']\n",
    "for col in columns_to_convert:\n",
    "    df[col] = pd.to_numeric(df[col], errors='coerce')"
   ]
  },
  {
   "cell_type": "code",
   "execution_count": 12,
   "metadata": {
    "id": "nDc5XXtRL8Qg"
   },
   "outputs": [],
   "source": [
    "def func_features(df):\n",
    "    for length in [6, 12, 16, 20, 25, 30, 50]:\n",
    "        # Simple Moving Average (SMA) and related signal\n",
    "        df.ta(kind='SMA', append=True, centered=False, close='closePrice', length=length)\n",
    "        df[f'f_SMA_{length}'] = np.where(df['closePrice'] > df[f'SMA_{length}'], -1, 1)\n",
    "\n",
    "        # Trend-based feature using rolling returns\n",
    "        df[f'f_trend_{length}'] = np.where(df['return'].rolling(window=length).sum() > 0, -1, 1)\n",
    "\n",
    "        # Average True Range (ATR)\n",
    "        df.ta(kind='ATR', append=True, centered=False, high='highPrice', low='lowPrice', volume='volume', close='closePrice', length=length)\n",
    "        df[f'f_ATR_{length}'] = np.where(df[f'ATRr_{length}'] > df[f'ATRr_{length}'].rolling(window=6).mean(), 1, -1)\n",
    "\n",
    "        # Relative Strength Index (RSI)\n",
    "        df.ta(kind='RSI', append=True, centered=False, close='closePrice', length=length)\n",
    "        df[f'f_RSI_{length}'] = np.where(df[f'RSI_{length}'] < 20, 1, np.where(df[f'RSI_{length}'] > 80, -1, 0))\n",
    "\n",
    "        # Price Volume Trend (PVT)\n",
    "        df.ta(kind='PVT', append=True, centered=False, volume='volume', close='closePrice')\n",
    "        df[f'f_PVT_{length}'] = np.where(df['PVT'] > df['PVT'].rolling(window=length).mean(), 1, -1)\n",
    "\n",
    "        # Bollinger Bands\n",
    "        df.ta(kind='BBANDS', append=True, centered=False, close='closePrice', length=length)\n",
    "        df[f'f_bb_{length}_low'] = np.where(df['closePrice'] < df[f'BBL_{length}_2.0'], 1, 0)\n",
    "        df[f'f_bb_{length}_high'] = np.where(df['closePrice'] > df[f'BBU_{length}_2.0'], -1, 0)\n",
    "\n",
    "    # Moving Average Convergence Divergence (MACD)\n",
    "    df.ta(kind='MACD', append=True, centered=False, high='highPrice', low='lowPrice', volume='volume', close='closePrice', length=6)\n",
    "    df['f_macd'] = np.where(df['MACDh_12_26_9'] > 0, 1, -1)\n",
    "\n",
    "    # On-Balance Volume (OBV)\n",
    "    df.ta(kind='OBV', append=True, centered=False, high='highPrice', low='lowPrice', volume='volume', close='closePrice', length=6)\n",
    "    df['f_OBV'] = np.where(df['OBV'] < df['OBV'].rolling(window=12).mean(), -1, 1)\n",
    "\n",
    "    # Momentum Indicator (MOM)\n",
    "    df.ta(kind='MOM', append=True, centered=False, close='closePrice', length=10)\n",
    "    df['f_momentum'] = np.where(df['MOM_10'] > 0, 1, -1)\n",
    "\n",
    "    # Additional features\n",
    "    df['f_high'] = df['highPrice'].pct_change().fillna(0)\n",
    "    df['f_low'] = df['lowPrice'].pct_change().fillna(0)\n",
    "    df['f_high_low'] = (df['highPrice'] - df['lowPrice']) / (df['highPrice'] + df['lowPrice']).fillna(0)\n",
    "    df['f_open_close'] = (df['openPrice'] - df['closePrice']) / (df['openPrice'] + df['closePrice']).fillna(0)\n",
    "    df['f_ntv'] = df['NumberOfTrades'].pct_change().where(df['NumberOfTrades'].pct_change() != np.inf, np.nan).ffill().fillna(0)\n",
    "    df['f_taker_volume_ratio'] = (df['TakerBaseVolume'] / df['volume']).fillna(0)\n",
    "    df['f_rolling_std'] = df['closePrice'].rolling(window=20).std().fillna(0)\n",
    "\n",
    "    # Lagged returns\n",
    "    for lag in [1, 2, 3, 5, 10]:\n",
    "        df[f'lag_return_{lag}'] = df['return'].shift(lag)\n",
    "\n",
    "    # Feature engineering for targets\n",
    "    df['return_next_class'] = np.where(df['return_next'] > 0, 1, 0)\n",
    "\n",
    "    return df"
   ]
  },
  {
   "cell_type": "code",
   "execution_count": 13,
   "metadata": {},
   "outputs": [],
   "source": [
    "df = func_features(df)"
   ]
  },
  {
   "cell_type": "code",
   "execution_count": 14,
   "metadata": {
    "colab": {
     "base_uri": "https://localhost:8080/",
     "height": 517
    },
    "id": "SEt9GVFUOTqz",
    "outputId": "940c179f-ed1c-47c0-b64e-2988e4a21746"
   },
   "outputs": [
    {
     "name": "stdout",
     "output_type": "stream",
     "text": [
      "            train     test\n",
      "PNL      : 9.548732   5.98659   \n",
      "MDD      : 0.259782   0.127859  \n",
      "Sharpe      : 36.756711  46.821812 \n"
     ]
    },
    {
     "data": {
      "image/png": "[encoded data removed]",
      "text/plain": [
       "<Figure size 2000x500 with 1 Axes>"
      ]
     },
     "metadata": {},
     "output_type": "display_data"
    }
   ],
   "source": [
    "from catboost import CatBoostRegressor\n",
    "from sklearn.model_selection import GridSearchCV\n",
    "\n",
    "\n",
    "def func_train_model(modelType,df,testDate):\n",
    "\n",
    "  if modelType == 'cb':\n",
    "    features = [col for col in df if col.startswith('f_')]\n",
    "    train = df[(df.index<testDate)].reindex()\n",
    "    test = df[(df.index>=testDate)].reindex()\n",
    "    X_train = train[features]\n",
    "    y_train = train['return_next']\n",
    "    model = CatBoostRegressor(iterations=1000, loss_function='RMSE',depth=15, verbose=False, early_stopping_rounds=10, random_seed=1)\n",
    "    model.fit(X_train,y_train)\n",
    "    df['predict'] = model.predict(df[features])\n",
    "    df['predict'] = np.where(df['predict']>0,1,np.where(df['predict']<0,-1,0))\n",
    "\n",
    "  if modelType == 'cb_gs':\n",
    "    features = [col for col in df if col.startswith('f_')]\n",
    "    train = df[(df.index<testDate)].reindex()\n",
    "    test = df[(df.index>=testDate)].reindex()\n",
    "    X_train = train[features]\n",
    "    y_train = train['return_next']\n",
    "    cat = CatBoostRegressor(verbose=False)\n",
    "    params = {'iterations':[1000],\n",
    "          #'depth':[5,10]\n",
    "          'l2_leaf_reg': np.logspace(-20,-10,3),\n",
    "          'early_stopping_rounds':[10]\n",
    "          }\n",
    "    model = GridSearchCV(estimator=cat,cv=5,param_grid=params)\n",
    "    model.fit(X_train,y_train)\n",
    "    df['predict'] = model.predict(df[features])\n",
    "    df['predict'] = np.where(df['predict']>0,1,np.where(df['predict']<0,-1,0))\n",
    "\n",
    "  if modelType == 'cb_w':\n",
    "    features = [col for col in df if col.startswith('f_')]\n",
    "    train = df[(df.index<testDate)].reindex()\n",
    "    test = df[(df.index>=testDate)].reindex()\n",
    "    X_train = train[features]\n",
    "    y_train = train['return_next']\n",
    "\n",
    "    sample_weight = np.array([0])\n",
    "    dfLength = len(X_train)\n",
    "    rowWeigth = 0\n",
    "    for i in range(dfLength-1):\n",
    "      sample_weight = np.append(sample_weight, rowWeigth)\n",
    "      rowWeigth = rowWeigth + 1/dfLength\n",
    "\n",
    "    model = CatBoostRegressor(iterations=1000, loss_function='RMSE',depth=15, verbose=False, early_stopping_rounds=10, random_seed=1)\n",
    "    model.fit(X_train,y_train,sample_weight=sample_weight)\n",
    "    df['predict'] = model.predict(df[features])\n",
    "    df['predict'] = np.where(df['predict']>0,1,np.where(df['predict']<0,-1,0))\n",
    "\n",
    "  if modelType == 'lr':\n",
    "    features = [col for col in df if col.startswith('f_')]\n",
    "    train = df[(df.index<testDate)].reindex()\n",
    "    test = df[(df.index>=testDate)].reindex()\n",
    "    X_train = train[features]\n",
    "    y_train = train['return_next']\n",
    "    model = LinearRegression()\n",
    "    model.fit(X_train,y_train)\n",
    "    df['predict'] = model.predict(df[features])\n",
    "    df['predict'] = np.where(df['predict']>0,1,np.where(df['predict']<0,-1,0))\n",
    "\n",
    "  if modelType == 'lr_sl':\n",
    "    features = [col for col in df if col.startswith('f_')]\n",
    "    train = df[(df.index<testDate)].reindex()\n",
    "    test = df[(df.index>=testDate)].reindex()\n",
    "    X_train = train[features]\n",
    "    y_train = train['return_next']\n",
    "    model = LinearRegression()\n",
    "    model.fit(X_train,y_train)\n",
    "    df['predict'] = model.predict(df[features])\n",
    "    df['predict'] = np.where(df['predict']>0,1,np.where(df['predict']<0,-1,0))\n",
    "    df['pnl'] = (df['predict'] * df['return_next']).shift(1)\n",
    "    df['predict'] = np.where(df['pnl'].rolling(window=100).sum()<0,0.5 * df['predict'], df['predict'])\n",
    "\n",
    "  if modelType == 'lr_ig':\n",
    "    features = [col for col in df if col.startswith('f_')]\n",
    "    train = df[(df.index<testDate)].reindex()\n",
    "    test = df[(df.index>=testDate)].reindex()\n",
    "    X_train = train[features]\n",
    "    y_train = train['return_next']\n",
    "\n",
    "    #mutual_info = mutual_info_regression(X_train,y_train)\n",
    "    #mutual_info = pd.Series(mutual_info)\n",
    "    #mutual_info.index = features\n",
    "    #mutual_info.sort_values(ascending=False)\n",
    "\n",
    "    bestCols =  SelectKBest(mutual_info_regression,k=10)\n",
    "    bestCols.fit(X_train,y_train)\n",
    "    features = list(X_train.columns[bestCols.get_support()])\n",
    "\n",
    "    X_train = train[features]\n",
    "    model = LinearRegression()\n",
    "    model.fit(X_train,y_train)\n",
    "    df['predict'] = model.predict(df[features])\n",
    "    df['predict'] = np.where(df['predict']>0,1,np.where(df['predict']<0,-1,0))\n",
    "\n",
    "  if modelType == 'lr_rfe':\n",
    "    features = [col for col in df if col.startswith('f_')]\n",
    "    train = df[(df.index<testDate)].reindex()\n",
    "    test = df[(df.index>=testDate)].reindex()\n",
    "    X_train = train[features]\n",
    "    y_train = train['return_next']\n",
    "    reg = LinearRegression()\n",
    "    model = RFE(reg, n_features_to_select=15)\n",
    "    model.fit(X_train,y_train)\n",
    "    df['predict'] = model.predict(df[features])\n",
    "    df['predict'] = np.where(df['predict']>0,1,np.where(df['predict']<0,-1,0))\n",
    "  if modelType == 'lr_reg':\n",
    "    features = [col for col in df if col.startswith('f_')]\n",
    "    train = df[(df.index<testDate)].reindex()\n",
    "    test = df[(df.index>=testDate)].reindex()\n",
    "    X_train = train[features]\n",
    "    y_train = train['return_next']\n",
    "    model = Ridge(alpha=1.0)\n",
    "    model.fit(X_train,y_train)\n",
    "    df['predict'] = model.predict(df[features])\n",
    "    df['predict'] = np.where(df['predict']>0,1,np.where(df['predict']<0,-1,0))\n",
    "  if modelType == 'lr_cor':\n",
    "    features = [col for col in df if col.startswith('f_')]\n",
    "    corr_matrix = df[features].corr().abs()\n",
    "    corr_matrix = corr_matrix.where(np.triu(np.ones(corr_matrix.shape), k=1).astype(np.bool_))\n",
    "    upper = corr_matrix.where(np.triu(np.ones(corr_matrix.shape), k =1).astype(np.bool_))\n",
    "    to_drop = [column for column in upper.columns if any(upper[column] > 0.75)]\n",
    "    features = [f for f in features if f not in to_drop]\n",
    "    train = df[(df.index<testDate)].reindex()\n",
    "    test = df[(df.index>=testDate)].reindex()\n",
    "    X_train = train[features]\n",
    "    y_train = train['return_next']\n",
    "    model = LinearRegression()\n",
    "    model.fit(X_train,y_train)\n",
    "    df['predict'] = model.predict(df[features])\n",
    "    df['predict'] = np.where(df['predict']>0,1,np.where(df['predict']<0,-1,0))\n",
    "  if modelType == 'dt':\n",
    "    features = [col for col in df if col.startswith('f_')]\n",
    "    train = df[(df.index<testDate)].reindex()\n",
    "    test = df[(df.index>=testDate)].reindex()\n",
    "    X_train = train[features]\n",
    "    y_train = train['return_next_class']\n",
    "    model = DecisionTreeClassifier(random_state=0,max_depth=5)\n",
    "    model.fit(X_train,y_train)\n",
    "    df['predict'] = model.predict(df[features])\n",
    "    df['predict'] = np.where(df['predict']>0,1,np.where(df['predict']<0,-1,0))\n",
    "  if modelType == 'elnet':\n",
    "    features = [col for col in df if col.startswith('f_')]\n",
    "    train = df[(df.index<testDate)].reindex()\n",
    "    test = df[(df.index>=testDate)].reindex()\n",
    "    X_train = train[features]\n",
    "    y_train = train['return_next']\n",
    "    alpha = [0.0001,0.001,0.1,1,10,100]\n",
    "    max_iter = [1000,10000]\n",
    "    l1_ratio = np.arange(0.0,1.0,0.1)\n",
    "    tol=[0.5]\n",
    "    elnet_gscv = GridSearchCV(estimator=ElasticNet(),param_grid={'alpha':alpha,'max_iter':max_iter,'l1_ratio':l1_ratio,'tol':tol}, scoring='r2',cv=5)\n",
    "    elnet_gscv.fit(X_train,y_train)\n",
    "    model = ElasticNet(alpha = elnet_gscv.best_params_['alpha'],\n",
    "                      max_iter = elnet_gscv.best_params_['max_iter'],\n",
    "                      l1_ratio = elnet_gscv.best_params_['l1_ratio'],\n",
    "                      tol = elnet_gscv.best_params_['tol'])\n",
    "    model.fit(X_train,y_train)\n",
    "    df['predict'] = model.predict(df[features])\n",
    "    df['predict'] = np.where(df['predict']>0,1,np.where(df['predict']<0,-1,0))\n",
    "\n",
    "  df['pnl'] = df['predict'] * df['return_next']\n",
    "  df['pnl_cumsum'] = df['pnl'].cumsum()\n",
    "  df['pnl_cumsum_max'] = df['pnl_cumsum'].cummax()\n",
    "  df['pnl_dd'] = df['pnl_cumsum_max'] - df['pnl_cumsum']\n",
    "  return df\n",
    "df = func_train_model('lr_sl',df,testDate)\n",
    "sharpe = func_model_performance(df)\n",
    "func_plot(df)"
   ]
  },
  {
   "cell_type": "code",
   "execution_count": 15,
   "metadata": {
    "colab": {
     "base_uri": "https://localhost:8080/",
     "height": 1000,
     "referenced_widgets": [
      "2d7798de0b7843ea9c19a8aed2f25e11",
      "3a7b876ba88548e0b246be499e0a6181",
      "d282affd73b34aea971550c3cb256b39",
      "c0e0791f2de44ef8b53224d675f5956d",
      "09ac44cc56c645fab59559d30970a335",
      "bddacaf601d14ec9a70b43accc916d8f",
      "69364f7934454323ab5ac633c9044893",
      "5411b2b454584ed49d5861a5053e40ca",
      "d8fe2d61f622445a96014843bb2a7472",
      "733802d4c50f4bef8db9a761b7bdd0d1",
      "d6a5258f4f33413aacf1a70aa602d01f"
     ]
    },
    "id": "jcbHyWRMbZDe",
    "outputId": "557d2810-973f-4c86-89c6-b6d681232a4a"
   },
   "outputs": [
    {
     "name": "stderr",
     "output_type": "stream",
     "text": [
      "c:\\Users\\Mirom\\Desktop\\ML\\ml-finance\\.venv\\Lib\\site-packages\\tqdm\\auto.py:21: TqdmWarning: IProgress not found. Please update jupyter and ipywidgets. See https://ipywidgets.readthedocs.io/en/stable/user_install.html\n",
      "  from .autonotebook import tqdm as notebook_tqdm\n",
      "[I 2024-12-05 10:44:22,979] A new study created in memory with name: no-name-ca4d7680-f9ef-4ab6-94ea-773165936142\n",
      "Best trial: 0. Best value: 32.1891:   5%|▌         | 1/20 [00:03<01:15,  3.98s/it, 3.98/1000 seconds]"
     ]
    },
    {
     "name": "stdout",
     "output_type": "stream",
     "text": [
      "            train     test\n",
      "PNL      : 10.204441  4.891105  \n",
      "MDD      : 0.317015   0.185396  \n",
      "Sharpe      : 32.189142  26.381934 \n",
      "[I 2024-12-05 10:44:26,976] Trial 0 finished with value: 32.189142 and parameters: {'model_type': 'lr_reg'}. Best is trial 0 with value: 32.189142.\n"
     ]
    },
    {
     "name": "stderr",
     "output_type": "stream",
     "text": [
      "Best trial: 0. Best value: 32.1891:  10%|█         | 2/20 [00:09<01:30,  5.06s/it, 9.79/1000 seconds]"
     ]
    },
    {
     "name": "stdout",
     "output_type": "stream",
     "text": [
      "            train     test\n",
      "PNL      : 6.285414   3.764445  \n",
      "MDD      : 0.393048   0.196821  \n",
      "Sharpe      : 15.991467  19.126237 \n",
      "[I 2024-12-05 10:44:32,783] Trial 1 finished with value: 15.991467 and parameters: {'model_type': 'dt'}. Best is trial 0 with value: 32.189142.\n"
     ]
    },
    {
     "name": "stderr",
     "output_type": "stream",
     "text": [
      "Best trial: 2. Best value: 33.0184:  15%|█▌        | 3/20 [10:10<1:18:26, 276.86s/it, 610.09/1000 seconds]"
     ]
    },
    {
     "name": "stdout",
     "output_type": "stream",
     "text": [
      "            train     test\n",
      "PNL      : 9.206113   5.242949  \n",
      "MDD      : 0.278818   0.163297  \n",
      "Sharpe      : 33.01836   32.10683  \n",
      "[I 2024-12-05 10:54:33,075] Trial 2 finished with value: 33.01836 and parameters: {'model_type': 'elnet'}. Best is trial 2 with value: 33.01836.\n"
     ]
    },
    {
     "name": "stderr",
     "output_type": "stream",
     "text": [
      "Best trial: 2. Best value: 33.0184:  20%|██        | 4/20 [10:15<45:17, 169.83s/it, 615.84/1000 seconds]  "
     ]
    },
    {
     "name": "stdout",
     "output_type": "stream",
     "text": [
      "            train     test\n",
      "PNL      : 6.285414   3.764445  \n",
      "MDD      : 0.393048   0.196821  \n",
      "Sharpe      : 15.991467  19.126237 \n",
      "[I 2024-12-05 10:54:38,828] Trial 3 finished with value: 15.991467 and parameters: {'model_type': 'dt'}. Best is trial 2 with value: 33.01836.\n"
     ]
    },
    {
     "name": "stderr",
     "output_type": "stream",
     "text": [
      "Best trial: 4. Best value: 55.5613:  25%|██▌       | 5/20 [11:04<31:34, 126.30s/it, 664.95/1000 seconds]"
     ]
    },
    {
     "name": "stdout",
     "output_type": "stream",
     "text": [
      "            train     test\n",
      "PNL      : 11.288004  7.461465  \n",
      "MDD      : 0.203163   0.173882  \n",
      "Sharpe      : 55.561318  42.911083 \n",
      "[I 2024-12-05 10:55:27,943] Trial 4 finished with value: 55.561318 and parameters: {'model_type': 'lr_rfe'}. Best is trial 4 with value: 55.561318.\n"
     ]
    },
    {
     "name": "stderr",
     "output_type": "stream",
     "text": [
      "Best trial: 4. Best value: 55.5613:  30%|███       | 6/20 [11:08<19:43, 84.55s/it, 668.46/1000 seconds] "
     ]
    },
    {
     "name": "stdout",
     "output_type": "stream",
     "text": [
      "            train     test\n",
      "PNL      : 10.204441  4.891105  \n",
      "MDD      : 0.317015   0.185396  \n",
      "Sharpe      : 32.189142  26.381934 \n",
      "[I 2024-12-05 10:55:31,449] Trial 5 finished with value: 32.189142 and parameters: {'model_type': 'lr_reg'}. Best is trial 4 with value: 55.561318.\n"
     ]
    },
    {
     "name": "stderr",
     "output_type": "stream",
     "text": [
      "Best trial: 4. Best value: 55.5613:  35%|███▌      | 7/20 [12:00<16:01, 73.99s/it, 720.70/1000 seconds]"
     ]
    },
    {
     "name": "stdout",
     "output_type": "stream",
     "text": [
      "            train     test\n",
      "PNL      : 11.288004  7.461465  \n",
      "MDD      : 0.203163   0.173882  \n",
      "Sharpe      : 55.561318  42.911083 \n",
      "[I 2024-12-05 10:56:23,688] Trial 6 finished with value: 55.561318 and parameters: {'model_type': 'lr_rfe'}. Best is trial 4 with value: 55.561318.\n"
     ]
    },
    {
     "name": "stderr",
     "output_type": "stream",
     "text": [
      "Best trial: 4. Best value: 55.5613:  40%|████      | 8/20 [12:06<10:28, 52.40s/it, 726.87/1000 seconds]"
     ]
    },
    {
     "name": "stdout",
     "output_type": "stream",
     "text": [
      "            train     test\n",
      "PNL      : 11.703064  6.582538  \n",
      "MDD      : 0.22827    0.153555  \n",
      "Sharpe      : 51.268515  42.867624 \n",
      "[I 2024-12-05 10:56:29,859] Trial 7 finished with value: 51.268515 and parameters: {'model_type': 'lr'}. Best is trial 4 with value: 55.561318.\n"
     ]
    },
    {
     "name": "stderr",
     "output_type": "stream",
     "text": [
      "Best trial: 4. Best value: 55.5613:  45%|████▌     | 9/20 [13:05<09:58, 54.41s/it, 785.69/1000 seconds]"
     ]
    },
    {
     "name": "stdout",
     "output_type": "stream",
     "text": [
      "            train     test\n",
      "PNL      : 11.288004  7.461465  \n",
      "MDD      : 0.203163   0.173882  \n",
      "Sharpe      : 55.561318  42.911083 \n",
      "[I 2024-12-05 10:57:28,682] Trial 8 finished with value: 55.561318 and parameters: {'model_type': 'lr_rfe'}. Best is trial 4 with value: 55.561318.\n"
     ]
    },
    {
     "name": "stderr",
     "output_type": "stream",
     "text": [
      "Best trial: 4. Best value: 55.5613:  50%|█████     | 10/20 [13:11<06:34, 39.45s/it, 791.65/1000 seconds]"
     ]
    },
    {
     "name": "stdout",
     "output_type": "stream",
     "text": [
      "            train     test\n",
      "PNL      : 11.703064  6.582538  \n",
      "MDD      : 0.22827    0.153555  \n",
      "Sharpe      : 51.268515  42.867624 \n",
      "[I 2024-12-05 10:57:34,640] Trial 9 finished with value: 51.268515 and parameters: {'model_type': 'lr'}. Best is trial 4 with value: 55.561318.\n"
     ]
    },
    {
     "name": "stderr",
     "output_type": "stream",
     "text": [
      "Best trial: 4. Best value: 55.5613:  55%|█████▌    | 11/20 [21:52<17:53, 119.30s/it, 1312.24/1000 seconds]"
     ]
    },
    {
     "name": "stdout",
     "output_type": "stream",
     "text": [
      "            train     test\n",
      "PNL      : 11.222495  7.935281  \n",
      "MDD      : 0.37311    0.144801  \n",
      "Sharpe      : 30.078248  54.801286 \n",
      "[I 2024-12-05 11:06:15,227] Trial 10 finished with value: 30.078248 and parameters: {'model_type': 'lr_ig'}. Best is trial 4 with value: 55.561318.\n"
     ]
    },
    {
     "name": "stderr",
     "output_type": "stream",
     "text": [
      "\n"
     ]
    }
   ],
   "source": [
    "import optuna\n",
    "from functools import partial\n",
    "from sklearn.model_selection import GridSearchCV\n",
    "from catboost import CatBoostRegressor\n",
    "\n",
    "def objective(trial, testDate=testDate, df=df):\n",
    "\n",
    "  #length_rsi = int(trial.suggest_categorical(\"length_rsi\",[\"6\",\"12\",\"18\",\"24\",\"30\",\"36\"]))\n",
    "  #length_pvt = int(trial.suggest_categorical(\"length_pvt\",[\"6\",\"12\",\"18\",\"24\",\"30\",\"36\"]))\n",
    "  model_type = trial.suggest_categorical(\"model_type\",[\"lr\",\"dt\",\"lr_reg\",\"lr_cor\",\"lr_rfe\",\"elnet\",\"lr_ig\"])\n",
    "  #model_type = trial.suggest_categorical(\"model_type\",[\"cb\",\"cb_w\"])\n",
    "\n",
    "  df = func_features(df)\n",
    "  df = func_train_model(model_type,df,testDate)\n",
    "  sharpe = func_model_performance(df)\n",
    "\n",
    "  return sharpe\n",
    "\n",
    "study = optuna.create_study(direction=\"maximize\")\n",
    "study.optimize(objective, n_trials = 20, timeout = 1000, show_progress_bar = True)"
   ]
  },
  {
   "cell_type": "code",
   "execution_count": 16,
   "metadata": {
    "colab": {
     "base_uri": "https://localhost:8080/",
     "height": 896
    },
    "id": "0jQe63dRKQqR",
    "outputId": "44fcd8a8-cf24-46d4-e05a-62369f17d54f"
   },
   "outputs": [
    {
     "data": {
      "image/png": "[encoded data removed]",
      "text/plain": [
       "<Figure size 1200x1000 with 2 Axes>"
      ]
     },
     "metadata": {},
     "output_type": "display_data"
    }
   ],
   "source": [
    "import seaborn as sns\n",
    "features = [col for col in df if col.startswith('f_')]\n",
    "plt.figure(figsize=(12,10))\n",
    "cor = df[features].corr()\n",
    "sns.heatmap(cor,annot=False, cmap=plt.cm.Reds)\n",
    "plt.show()"
   ]
  },
  {
   "cell_type": "code",
   "execution_count": null,
   "metadata": {},
   "outputs": [],
   "source": []
  }
 ],
 "metadata": {
  "colab": {
   "provenance": []
  },
  "kernelspec": {
   "display_name": ".venv",
   "language": "python",
   "name": "python3"
  },
  "language_info": {
   "codemirror_mode": {
    "name": "ipython",
    "version": 3
   },
   "file_extension": ".py",
   "mimetype": "text/x-python",
   "name": "python",
   "nbconvert_exporter": "python",
   "pygments_lexer": "ipython3",
   "version": "3.12.4"
  },
  "widgets": {
   "application/vnd.jupyter.widget-state+json": {
    "09ac44cc56c645fab59559d30970a335": {
     "model_module": "@jupyter-widgets/base",
     "model_module_version": "1.2.0",
     "model_name": "LayoutModel",
     "state": {
      "_model_module": "@jupyter-widgets/base",
      "_model_module_version": "1.2.0",
      "_model_name": "LayoutModel",
      "_view_count": null,
      "_view_module": "@jupyter-widgets/base",
      "_view_module_version": "1.2.0",
      "_view_name": "LayoutView",
      "align_content": null,
      "align_items": null,
      "align_self": null,
      "border": null,
      "bottom": null,
      "display": null,
      "flex": null,
      "flex_flow": null,
      "grid_area": null,
      "grid_auto_columns": null,
      "grid_auto_flow": null,
      "grid_auto_rows": null,
      "grid_column": null,
      "grid_gap": null,
      "grid_row": null,
      "grid_template_areas": null,
      "grid_template_columns": null,
      "grid_template_rows": null,
      "height": null,
      "justify_content": null,
      "justify_items": null,
      "left": null,
      "margin": null,
      "max_height": null,
      "max_width": null,
      "min_height": null,
      "min_width": null,
      "object_fit": null,
      "object_position": null,
      "order": null,
      "overflow": null,
      "overflow_x": null,
      "overflow_y": null,
      "padding": null,
      "right": null,
      "top": null,
      "visibility": null,
      "width": null
     }
    },
    "2d7798de0b7843ea9c19a8aed2f25e11": {
     "model_module": "@jupyter-widgets/controls",
     "model_module_version": "1.5.0",
     "model_name": "HBoxModel",
     "state": {
      "_dom_classes": [],
      "_model_module": "@jupyter-widgets/controls",
      "_model_module_version": "1.5.0",
      "_model_name": "HBoxModel",
      "_view_count": null,
      "_view_module": "@jupyter-widgets/controls",
      "_view_module_version": "1.5.0",
      "_view_name": "HBoxView",
      "box_style": "",
      "children": [
       "IPY_MODEL_3a7b876ba88548e0b246be499e0a6181",
       "IPY_MODEL_d282affd73b34aea971550c3cb256b39",
       "IPY_MODEL_c0e0791f2de44ef8b53224d675f5956d"
      ],
      "layout": "IPY_MODEL_09ac44cc56c645fab59559d30970a335"
     }
    },
    "3a7b876ba88548e0b246be499e0a6181": {
     "model_module": "@jupyter-widgets/controls",
     "model_module_version": "1.5.0",
     "model_name": "HTMLModel",
     "state": {
      "_dom_classes": [],
      "_model_module": "@jupyter-widgets/controls",
      "_model_module_version": "1.5.0",
      "_model_name": "HTMLModel",
      "_view_count": null,
      "_view_module": "@jupyter-widgets/controls",
      "_view_module_version": "1.5.0",
      "_view_name": "HTMLView",
      "description": "",
      "description_tooltip": null,
      "layout": "IPY_MODEL_bddacaf601d14ec9a70b43accc916d8f",
      "placeholder": "​",
      "style": "IPY_MODEL_69364f7934454323ab5ac633c9044893",
      "value": "Best trial: 12. Best value: 28.9543: 100%"
     }
    },
    "5411b2b454584ed49d5861a5053e40ca": {
     "model_module": "@jupyter-widgets/base",
     "model_module_version": "1.2.0",
     "model_name": "LayoutModel",
     "state": {
      "_model_module": "@jupyter-widgets/base",
      "_model_module_version": "1.2.0",
      "_model_name": "LayoutModel",
      "_view_count": null,
      "_view_module": "@jupyter-widgets/base",
      "_view_module_version": "1.2.0",
      "_view_name": "LayoutView",
      "align_content": null,
      "align_items": null,
      "align_self": null,
      "border": null,
      "bottom": null,
      "display": null,
      "flex": null,
      "flex_flow": null,
      "grid_area": null,
      "grid_auto_columns": null,
      "grid_auto_flow": null,
      "grid_auto_rows": null,
      "grid_column": null,
      "grid_gap": null,
      "grid_row": null,
      "grid_template_areas": null,
      "grid_template_columns": null,
      "grid_template_rows": null,
      "height": null,
      "justify_content": null,
      "justify_items": null,
      "left": null,
      "margin": null,
      "max_height": null,
      "max_width": null,
      "min_height": null,
      "min_width": null,
      "object_fit": null,
      "object_position": null,
      "order": null,
      "overflow": null,
      "overflow_x": null,
      "overflow_y": null,
      "padding": null,
      "right": null,
      "top": null,
      "visibility": null,
      "width": null
     }
    },
    "69364f7934454323ab5ac633c9044893": {
     "model_module": "@jupyter-widgets/controls",
     "model_module_version": "1.5.0",
     "model_name": "DescriptionStyleModel",
     "state": {
      "_model_module": "@jupyter-widgets/controls",
      "_model_module_version": "1.5.0",
      "_model_name": "DescriptionStyleModel",
      "_view_count": null,
      "_view_module": "@jupyter-widgets/base",
      "_view_module_version": "1.2.0",
      "_view_name": "StyleView",
      "description_width": ""
     }
    },
    "733802d4c50f4bef8db9a761b7bdd0d1": {
     "model_module": "@jupyter-widgets/base",
     "model_module_version": "1.2.0",
     "model_name": "LayoutModel",
     "state": {
      "_model_module": "@jupyter-widgets/base",
      "_model_module_version": "1.2.0",
      "_model_name": "LayoutModel",
      "_view_count": null,
      "_view_module": "@jupyter-widgets/base",
      "_view_module_version": "1.2.0",
      "_view_name": "LayoutView",
      "align_content": null,
      "align_items": null,
      "align_self": null,
      "border": null,
      "bottom": null,
      "display": null,
      "flex": null,
      "flex_flow": null,
      "grid_area": null,
      "grid_auto_columns": null,
      "grid_auto_flow": null,
      "grid_auto_rows": null,
      "grid_column": null,
      "grid_gap": null,
      "grid_row": null,
      "grid_template_areas": null,
      "grid_template_columns": null,
      "grid_template_rows": null,
      "height": null,
      "justify_content": null,
      "justify_items": null,
      "left": null,
      "margin": null,
      "max_height": null,
      "max_width": null,
      "min_height": null,
      "min_width": null,
      "object_fit": null,
      "object_position": null,
      "order": null,
      "overflow": null,
      "overflow_x": null,
      "overflow_y": null,
      "padding": null,
      "right": null,
      "top": null,
      "visibility": null,
      "width": null
     }
    },
    "bddacaf601d14ec9a70b43accc916d8f": {
     "model_module": "@jupyter-widgets/base",
     "model_module_version": "1.2.0",
     "model_name": "LayoutModel",
     "state": {
      "_model_module": "@jupyter-widgets/base",
      "_model_module_version": "1.2.0",
      "_model_name": "LayoutModel",
      "_view_count": null,
      "_view_module": "@jupyter-widgets/base",
      "_view_module_version": "1.2.0",
      "_view_name": "LayoutView",
      "align_content": null,
      "align_items": null,
      "align_self": null,
      "border": null,
      "bottom": null,
      "display": null,
      "flex": null,
      "flex_flow": null,
      "grid_area": null,
      "grid_auto_columns": null,
      "grid_auto_flow": null,
      "grid_auto_rows": null,
      "grid_column": null,
      "grid_gap": null,
      "grid_row": null,
      "grid_template_areas": null,
      "grid_template_columns": null,
      "grid_template_rows": null,
      "height": null,
      "justify_content": null,
      "justify_items": null,
      "left": null,
      "margin": null,
      "max_height": null,
      "max_width": null,
      "min_height": null,
      "min_width": null,
      "object_fit": null,
      "object_position": null,
      "order": null,
      "overflow": null,
      "overflow_x": null,
      "overflow_y": null,
      "padding": null,
      "right": null,
      "top": null,
      "visibility": null,
      "width": null
     }
    },
    "c0e0791f2de44ef8b53224d675f5956d": {
     "model_module": "@jupyter-widgets/controls",
     "model_module_version": "1.5.0",
     "model_name": "HTMLModel",
     "state": {
      "_dom_classes": [],
      "_model_module": "@jupyter-widgets/controls",
      "_model_module_version": "1.5.0",
      "_model_name": "HTMLModel",
      "_view_count": null,
      "_view_module": "@jupyter-widgets/controls",
      "_view_module_version": "1.5.0",
      "_view_name": "HTMLView",
      "description": "",
      "description_tooltip": null,
      "layout": "IPY_MODEL_733802d4c50f4bef8db9a761b7bdd0d1",
      "placeholder": "​",
      "style": "IPY_MODEL_d6a5258f4f33413aacf1a70aa602d01f",
      "value": " 20/20 [09:38&lt;00:00,  3.93s/it, 577.98/1000 seconds]"
     }
    },
    "d282affd73b34aea971550c3cb256b39": {
     "model_module": "@jupyter-widgets/controls",
     "model_module_version": "1.5.0",
     "model_name": "FloatProgressModel",
     "state": {
      "_dom_classes": [],
      "_model_module": "@jupyter-widgets/controls",
      "_model_module_version": "1.5.0",
      "_model_name": "FloatProgressModel",
      "_view_count": null,
      "_view_module": "@jupyter-widgets/controls",
      "_view_module_version": "1.5.0",
      "_view_name": "ProgressView",
      "bar_style": "success",
      "description": "",
      "description_tooltip": null,
      "layout": "IPY_MODEL_5411b2b454584ed49d5861a5053e40ca",
      "max": 20,
      "min": 0,
      "orientation": "horizontal",
      "style": "IPY_MODEL_d8fe2d61f622445a96014843bb2a7472",
      "value": 20
     }
    },
    "d6a5258f4f33413aacf1a70aa602d01f": {
     "model_module": "@jupyter-widgets/controls",
     "model_module_version": "1.5.0",
     "model_name": "DescriptionStyleModel",
     "state": {
      "_model_module": "@jupyter-widgets/controls",
      "_model_module_version": "1.5.0",
      "_model_name": "DescriptionStyleModel",
      "_view_count": null,
      "_view_module": "@jupyter-widgets/base",
      "_view_module_version": "1.2.0",
      "_view_name": "StyleView",
      "description_width": ""
     }
    },
    "d8fe2d61f622445a96014843bb2a7472": {
     "model_module": "@jupyter-widgets/controls",
     "model_module_version": "1.5.0",
     "model_name": "ProgressStyleModel",
     "state": {
      "_model_module": "@jupyter-widgets/controls",
      "_model_module_version": "1.5.0",
      "_model_name": "ProgressStyleModel",
      "_view_count": null,
      "_view_module": "@jupyter-widgets/base",
      "_view_module_version": "1.2.0",
      "_view_name": "StyleView",
      "bar_color": null,
      "description_width": ""
     }
    }
   }
  }
 },
 "nbformat": 4,
 "nbformat_minor": 0
}
